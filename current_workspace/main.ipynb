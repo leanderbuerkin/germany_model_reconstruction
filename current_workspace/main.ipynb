{
 "cells": [
  {
   "cell_type": "markdown",
   "metadata": {},
   "source": [
    "# ToDo: Name"
   ]
  },
  {
   "cell_type": "code",
   "execution_count": 1,
   "metadata": {},
   "outputs": [],
   "source": [
    "import numpy as np    # casting the polygons into np.arrays allows to transpose them easily with the .T function\n",
    "import matplotlib.pyplot as plt    # to plot the counties\n",
    "from json2xml.utils import readfromurl    # to convert the json from the API into a python list\n",
    "import json    # to save the data as json in a file\n",
    "import os.path    # to check if their's a local file with the API-data or if a new API pull is inevitable"
   ]
  },
  {
   "cell_type": "markdown",
   "metadata": {},
   "source": [
    "## Control"
   ]
  },
  {
   "cell_type": "code",
   "execution_count": 2,
   "metadata": {},
   "outputs": [],
   "source": [
    "# pulls new data about the shapes of the counties from the API \n",
    "# (or takes old, local backup from API, depends on the variable county_shapes_new_pull_from_api)\n",
    "# and polishes it again\n",
    "county_shapes_use_polished_data = True\n",
    "# pulls new data about the covid19 cases from the API \n",
    "# (or takes old, local backup from API, depends on the variable county_shapes_new_pull_from_api)\n",
    "# and polishes it again\n",
    "covid19_use_polished_data = True\n",
    "# decides whether a new pull from the API is made or if a local backup is used\n",
    "covid19_new_pull_from_api = True"
   ]
  },
  {
   "cell_type": "markdown",
   "metadata": {},
   "source": [
    "## Collect all data"
   ]
  },
  {
   "cell_type": "code",
   "execution_count": null,
   "metadata": {},
   "outputs": [],
   "source": [
    "# If the data does not contain that many counties,\n",
    "# the program raises an error and pulls from a local backup of the API pull\n",
    "number_of_counties = 412"
   ]
  },
  {
   "cell_type": "markdown",
   "metadata": {},
   "source": [
    "### Get county shapes of the german counties\n",
    "Either use old polished version or make new pull from API and polish it.\n",
    "Depending on the variable county_shapes_use_polished_data in the controls of this file."
   ]
  },
  {
   "cell_type": "code",
   "execution_count": 3,
   "metadata": {},
   "outputs": [],
   "source": [
    "# check if a polished version of the german counties shapes exists\n",
    "# and otherwise initiate a new pull from the API\n",
    "if not(os.path.isfile(\"modified_data/german_county_shapes.txt\")):\n",
    "    county_shapes_use_polished_data = False"
   ]
  },
  {
   "cell_type": "code",
   "execution_count": 4,
   "metadata": {},
   "outputs": [
    {
     "name": "stdout",
     "output_type": "stream",
     "text": [
      "Polished data from file is ready to go!\n"
     ]
    }
   ],
   "source": [
    "if county_shapes_use_polished_data:\n",
    "    with open(\"modified_data/german_county_shapes.txt\", \"r\") as file:\n",
    "        county_shapes = json.loads(file.read())\n",
    "    print(\"Polished data from file is ready to go!\")\n",
    "else:\n",
    "    no_outputs_from_file_get_shapes_of_german_counties = True\n",
    "    %run get_shapes_of_german_counties.ipynb\n",
    "    print(\"Data from (maybe old) API-pull is ready to go!\")"
   ]
  },
  {
   "cell_type": "markdown",
   "metadata": {},
   "source": [
    "### Get covid19 data of the german counties\n",
    "Either use old polished version or make new pull from API and polish it.\n",
    "Depending on the variable covid19_use_polished_data in the controls of this file.\n",
    "<br/>\n",
    "<br/>\n",
    "Get the correct URLs to the arcgis server:\n",
    "We must pull all counties separatedly because the API only allows 1000 datapoints at a time.\n",
    "<br/>\n",
    "<br/>\n",
    "This part is not outsourced because it is shorter than the pulling and polishing of the shape data and to ensure that the shape data is availlable to compare length and content.\n"
   ]
  },
  {
   "cell_type": "code",
   "execution_count": null,
   "metadata": {},
   "outputs": [],
   "source": [
    "# check if a polished version of the german counties covid19 cases exists\n",
    "# and otherwise initiate a new pull from the API\n",
    "if not(os.path.isfile(\"modified_data/german_covid19.txt\")):\n",
    "    covid19_use_polished_data = False\n",
    "\n",
    "# get the polished data\n",
    "if covid19_use_polished_data:\n",
    "    with open(\"modified_data/german_covid19.txt\", \"r\") as file:\n",
    "        covid19_data = json.loads(file.read())\n",
    "    print(\"Polished data from file is ready to go!\")"
   ]
  },
  {
   "cell_type": "code",
   "execution_count": 2,
   "metadata": {},
   "outputs": [],
   "source": [
    "def url_county(AdmUnitID):\n",
    "    return (\"https://services7.arcgis.com/mOBPykOjAyBO2ZKk/arcgis/rest/services/\" +\n",
    "           \"rki_history_hubv/FeatureServer/0/query?where=AdmUnitId%3D\" +\n",
    "           str(AdmUnitID) +\n",
    "           \"&outFields=Datum%2C+KumFall%2C+ObjectId&orderByFields=Datum&f=pjson\")"
   ]
  },
  {
   "cell_type": "code",
   "execution_count": null,
   "metadata": {},
   "outputs": [],
   "source": [
    "# check if a local pull of the API exists otherwise initiate a new pull from the API\n",
    "if not(os.path.isfile(\"unmodified_data/german_covid19.txt\")):\n",
    "    covid19_new_pull_from_api = True\n",
    "\n",
    "# check if new pull from the API is necessary or wished and\n",
    "# if it is even possible otherwise \"pull\" from local backup\n",
    "if covid19_new_pull_from_api and not(covid19_use_polished_data):\n",
    "    # get data - every county must be called individually because of the Max Record Count of the API\n",
    "    for AdmUnitID in list(county_shapes.keys()):\n",
    "        raw_covid_19_counties_germany = readfromurl(url_county(AdmUnitID))data\n",
    "        # check if the needed directory is availlable - otherwise create it\n",
    "        if not(os.path.isdir(\"unmodified_data/covid19\")): os.makedirs(\"unmodified_data/covid19\")\n",
    "        # save raw data\n",
    "        with open(\"unmodified_data/covid19/\" + AdmUnitID, \"w\") as file:\n",
    "            file.write(json.dumps(raw_covid_19_counties_germany))\n",
    "        # check if the data is valid and cut away unnecessary dictionary shells\n",
    "        try:\n",
    "            # check if every county has the same amount of timestamps\n",
    "            if number_of_timestamps != len(covid19[AdmUnitID]):\n",
    "                covid19_new_pull_from_api = False\n",
    "                print(\"The provided data from the API does not have the same number of timestamps of\" +\n",
    "                      \"{}, it has {}.\".format(number_of_timestamps, len(covid19[AdmUnitID])))\n",
    "            # data seems to be good - save it\n",
    "            else:\n",
    "                \n",
    "        except NameError:\n",
    "            number_of_timestamps = len(covid19[AdmUnitID])\n",
    "\n",
    "        \n",
    "        \n",
    "        \n",
    "        \n",
    "        \n",
    "        \n",
    "        \n",
    "        \n",
    "        \n",
    "        \n",
    "    # data is maybe faulty: if so report to user and use local backup of old API pull\n",
    "    if len(county_shapes_raw[\"features\"]) != number_of_counties:\n",
    "        county_shapes_new_pull_from_api = False\n",
    "        print(\"The provided data from the API does not have the preset number of counties of\" +\n",
    "        \"{}, it has {}.\".format(number_of_counties, len(county_shapes_raw[\"features\"])))\n",
    "    # data seems to be fine: continue\n",
    "    else:    # only store flawless data\n",
    "        # check if the needed directory is availlable - otherwise create it\n",
    "        if not(os.path.isdir(\"unmodified_data\")): os.makedirs(\"unmodified_data\")\n",
    "        with open(\"unmodified_data/german_county_shapes.txt\", \"w\") as file:\n",
    "            file.write(json.dumps(county_shapes_raw))\n",
    "        print(\"Data directly from API is ready to go!\")\n",
    "\n",
    "# Use data from local backup originating from old API pull\n",
    "# new_pull_from_api gets modified in the if-statement - therefore no else-statement here\n",
    "if not(county_shapes_new_pull_from_api) and not(county_shapes_use_polished_data):\n",
    "    with open(\"unmodified_data/german_county_shapes.txt\", \"r\") as file:\n",
    "        county_shapes_raw = json.loads(file.read())\n",
    "    print(\"Data from old API-pull is ready to go!\")\n",
    "\n",
    "    print(\"Data from (maybe old) API-pull is ready to go!\")"
   ]
  }
 ],
 "metadata": {
  "kernelspec": {
   "display_name": "Python 3",
   "language": "python",
   "name": "python3"
  },
  "language_info": {
   "codemirror_mode": {
    "name": "ipython",
    "version": 3
   },
   "file_extension": ".py",
   "mimetype": "text/x-python",
   "name": "python",
   "nbconvert_exporter": "python",
   "pygments_lexer": "ipython3",
   "version": "3.7.6"
  }
 },
 "nbformat": 4,
 "nbformat_minor": 4
}
