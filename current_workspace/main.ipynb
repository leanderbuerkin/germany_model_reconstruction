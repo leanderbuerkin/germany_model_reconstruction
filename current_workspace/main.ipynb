{
 "cells": [
  {
   "cell_type": "markdown",
   "metadata": {},
   "source": [
    "# ToDo: Name"
   ]
  },
  {
   "cell_type": "code",
   "execution_count": 1,
   "metadata": {},
   "outputs": [],
   "source": [
    "import numpy as np    # casting the polygons into np.arrays allows to transpose them easily with the .T function\n",
    "import matplotlib.pyplot as plt    # to plot the counties\n",
    "import json    # to save the data as json in a file\n",
    "import os.path    # to check if their's a local file with the API-data or if a new API pull is inevitable"
   ]
  },
  {
   "cell_type": "markdown",
   "metadata": {},
   "source": [
    "## Control"
   ]
  },
  {
   "cell_type": "code",
   "execution_count": 2,
   "metadata": {},
   "outputs": [],
   "source": [
    "# pulls new data about the shapes of the counties from the API \n",
    "# (or takes old, local backup from API, depends on the variable county_shapes_new_pull_from_api)\n",
    "# and polishes it again\n",
    "county_shapes_use_polished_data = True\n",
    "# pulls new data about the covid19 cases from the API \n",
    "# (or takes old, local backup from API, depends on the variable county_shapes_new_pull_from_api)\n",
    "# and polishes it again\n",
    "covid19_use_polished_data = True"
   ]
  },
  {
   "cell_type": "markdown",
   "metadata": {},
   "source": [
    "## Collect all data"
   ]
  },
  {
   "cell_type": "markdown",
   "metadata": {},
   "source": [
    "### Get county shapes of the german counties\n",
    "Either use old polished version or make new pull from API and polish it.\n",
    "Depending on the variable county_shapes_use_polished_data in the controls of this file."
   ]
  },
  {
   "cell_type": "code",
   "execution_count": 3,
   "metadata": {},
   "outputs": [],
   "source": [
    "# check if a polished version of the german counties shapes exists\n",
    "# and otherwise initiate a new pull from the API\n",
    "if not(os.path.isfile(\"modified_data/german_county_shapes.txt\")):\n",
    "    county_shapes_use_polished_data = False"
   ]
  },
  {
   "cell_type": "code",
   "execution_count": 4,
   "metadata": {},
   "outputs": [
    {
     "name": "stdout",
     "output_type": "stream",
     "text": [
      "Polished data from file is ready to go!\n"
     ]
    }
   ],
   "source": [
    "if county_shapes_use_polished_data:\n",
    "    with open(\"modified_data/german_county_shapes.txt\", \"r\") as file:\n",
    "        county_shapes = json.loads(file.read())\n",
    "    print(\"Polished data from file is ready to go!\")\n",
    "else:\n",
    "    no_outputs_from_file_get_shapes_of_german_counties = True\n",
    "    %run get_shapes_of_german_counties.ipynb\n",
    "    print(\"Data from (maybe old) API-pull is ready to go!\")"
   ]
  },
  {
   "cell_type": "markdown",
   "metadata": {},
   "source": [
    "### Get covid19 data of the german counties\n",
    "Either use old polished version or make new pull from API and polish it.\n",
    "Depending on the variable covid19_use_polished_data in the controls of this file."
   ]
  },
  {
   "cell_type": "code",
   "execution_count": null,
   "metadata": {},
   "outputs": [],
   "source": [
    "# check if a polished version of the german counties covid19 cases exists\n",
    "# and otherwise initiate a new pull from the API\n",
    "if not(os.path.isfile(\"modified_data/german_covid19.txt\")):\n",
    "    covid19_use_polished_data = False"
   ]
  },
  {
   "cell_type": "code",
   "execution_count": null,
   "metadata": {},
   "outputs": [],
   "source": [
    "if covid19_use_polished_data:\n",
    "    with open(\"modified_data/german_covid19.txt\", \"r\") as file:\n",
    "        covid19_data = json.loads(file.read())\n",
    "    print(\"Polished data from file is ready to go!\")\n",
    "else:\n",
    "    no_outputs_from_file_get_covid19_cases_of_german_counties = True\n",
    "    %run get_covid19_cases_of_german_counties.ipynb\n",
    "    print(\"Data from (maybe old) API-pull is ready to go!\")"
   ]
  }
 ],
 "metadata": {
  "kernelspec": {
   "display_name": "Python 3",
   "language": "python",
   "name": "python3"
  },
  "language_info": {
   "codemirror_mode": {
    "name": "ipython",
    "version": 3
   },
   "file_extension": ".py",
   "mimetype": "text/x-python",
   "name": "python",
   "nbconvert_exporter": "python",
   "pygments_lexer": "ipython3",
   "version": "3.7.6"
  }
 },
 "nbformat": 4,
 "nbformat_minor": 4
}
