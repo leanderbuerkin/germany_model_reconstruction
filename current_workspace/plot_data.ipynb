{
 "cells": [
  {
   "cell_type": "markdown",
   "metadata": {},
   "source": [
    "# Plot the data\n",
    "Used to map the COVID-19 cases of Germany on a map or plotting the number of cases/seven days incidence of one county.\n",
    "<br/><br/><br/>\n",
    "Provides the dictionary \"counties_geography\" with different kinds of geographical information about every German county. For more information check out the file \"get_geographical_data_of_german_counties.ipynb\".\n",
    "<br/><br/>\n",
    "Provides the accumulated COVID-19 case number and the seven days incidences of every german county and every day of the pandemic in the dictionary \"covid19\" (reachable by the county's AdmUnitID).\n",
    "For more information check out the file \"get_data.ipynb\" (which calls the file \"get_geographical_data_of_german_counties.ipynb\" if needed)."
   ]
  },
  {
   "cell_type": "markdown",
   "metadata": {},
   "source": [
    "## Modules\n",
    "Needed to use non-Python functionalities already programmed by someone else."
   ]
  },
  {
   "cell_type": "code",
   "execution_count": 1,
   "metadata": {},
   "outputs": [],
   "source": [
    "# Used to cast the polygons into np.arrays and afterwards transpose them easily with the .T function\n",
    "import numpy as np\n",
    "import matplotlib.pyplot as plt    # to plot the counties\n",
    "# Used to determine which part of the plot shall be saved\n",
    "from matplotlib.transforms import Bbox\n",
    "# Used to underline text in plots\n",
    "from matplotlib import rc"
   ]
  },
  {
   "cell_type": "markdown",
   "metadata": {},
   "source": [
    "## Get the data\n",
    "More information about the data can be find inside the first cell."
   ]
  },
  {
   "cell_type": "code",
   "execution_count": 2,
   "metadata": {},
   "outputs": [
    {
     "name": "stdout",
     "output_type": "stream",
     "text": [
      "Polished county data from file is ready to go!\n",
      "Polished covid19 data from file is ready to go!\n",
      "All data is ready!\n"
     ]
    }
   ],
   "source": [
    "%run get_data.ipynb\n",
    "print(\"All data is ready!\")"
   ]
  },
  {
   "cell_type": "markdown",
   "metadata": {},
   "source": [
    "## Create color schemes"
   ]
  },
  {
   "cell_type": "code",
   "execution_count": 3,
   "metadata": {},
   "outputs": [],
   "source": [
    "# check if the needed directory is availlable - otherwise create it\n",
    "if not(os.path.isdir(\"media\")): os.makedirs(\"media\")\n",
    "# check if the needed directory is availlable - otherwise create it\n",
    "if not(os.path.isdir(\"media/germany_incidence_V4\")): os.makedirs(\"media/germany_incidence_V4\")"
   ]
  },
  {
   "cell_type": "code",
   "execution_count": 4,
   "metadata": {},
   "outputs": [],
   "source": [
    "red_yellow_green = list()\n",
    "# bigger steps in the darkgreen spectrum to make a bigger optical difference between\n",
    "# smaller numbers (e.g. 7 and 8) in comparison to bigger numbers (e.g. 57 and 58)\n",
    "# (most of the time most counties are green and hard to distinguish and only a few are red)\n",
    "for color_step in np.arange(0.4,1,0.05):\n",
    "    red_yellow_green.append((0, color_step, 0))\n",
    "for color_step in np.arange(0,1,0.02):\n",
    "    red_yellow_green.append((color_step, 1, 0))\n",
    "for color_step in np.arange(0,1,0.01):\n",
    "    red_yellow_green.append((1, 1 - color_step, 0))\n",
    "for color_step in np.arange(0,0.94,0.005):\n",
    "    red_yellow_green.append((1 - color_step, 0, 0))"
   ]
  },
  {
   "cell_type": "code",
   "execution_count": 5,
   "metadata": {},
   "outputs": [],
   "source": [
    "def plot_map_of_germany_incidences(date_index, fig, ax):\n",
    "    for AdmUnitID, county in covid19.items():\n",
    "        color_index_incidence = int(county['incidences'][date_index])\n",
    "        if color_index_incidence >= len(red_yellow_green):\n",
    "            color = red_yellow_green[-1]\n",
    "        else:\n",
    "            color = red_yellow_green[color_index_incidence]\n",
    "        for polygon in counties_geography[AdmUnitID]['geometry']:\n",
    "            x,y = np.array(polygon).T\n",
    "            plt.fill(x, y, color=color, facecolor=\"darkgrey\")\n",
    "        # draw the lines around the counties\n",
    "        for polygon in counties_geography[AdmUnitID]['raw_geometry']:\n",
    "            x,y = np.array(polygon).T\n",
    "            plt.plot(x, y, color=\"black\")"
   ]
  },
  {
   "cell_type": "code",
   "execution_count": 6,
   "metadata": {},
   "outputs": [],
   "source": [
    "def plot_legend_incidences():\n",
    "    ax1 = plt.axes([0.01, 0.2, 0.06, 0.65], # [left, bottom, width, height]\n",
    "                   frameon=False)\n",
    "    ax1.yaxis.tick_right()\n",
    "    ax1.axes.get_xaxis().set_visible(False)\n",
    "    plt.yticks([0,25,50,75,100,125,150,175,200,225,250,275,300,325,350],\n",
    "               [\"0\",\"25\",\"50\",\"75\",\"100\",\"125\",\"150\",\"175\",\"200\",\"225\",\"250\",\"275\",\"300\",\"325\",\">350\"],\n",
    "               fontsize=90)\n",
    "    plt.ylabel('Seven-days-incidence', fontsize=100, rotation='vertical')\n",
    "    for color_index in range(len(red_yellow_green)):\n",
    "        plt.fill([1, 2, 2, 1], [1+color_index, 1+color_index, 2+color_index, 2+color_index],\n",
    "                 color=red_yellow_green[color_index])\n",
    "        if color_index % 25 == 0:\n",
    "            plt.fill([1, 2, 2, 1], [color_index, color_index, 1+color_index, 1+color_index],\n",
    "                     color=\"black\")\n",
    "    plt.fill([1, 2, 2, 1], [len(red_yellow_green), len(red_yellow_green), 10+len(red_yellow_green), 10+len(red_yellow_green)],\n",
    "            color=\"black\")"
   ]
  },
  {
   "cell_type": "code",
   "execution_count": 7,
   "metadata": {},
   "outputs": [],
   "source": [
    "def plot_distribution_of_incidences(date_index):\n",
    "    ax2 = plt.axes([0.96, 0.31, 0.55, 0.36], facecolor='lightgrey') # [left, bottom, width, height]\n",
    "    plt.xticks([num for num in range(0,351,50)]+[375],\n",
    "               [str(num) for num in range(0,351,50)] + \n",
    "               [str(int(non_county_specific_data[\"highest_incidence\"]))],\n",
    "              fontsize=70)\n",
    "    plt.yticks([10,20,30,40,50,60,70,80,90,100,110,120,130,140,150], fontsize=70)\n",
    "    plt.xlim(0, 350)\n",
    "    plt.ylim(0, 150)\n",
    "    plt.title(r\"\\textbf{Number of counties with given incidence}\",\n",
    "              fontsize=90, usetex=True, y=1.02, x=0.55)\n",
    "    ax2.set_ylabel(\"Number of counties\", fontsize=75)\n",
    "    plt.xlabel(\"Incidence\", fontsize=70)\n",
    "    _, bins, patches = ax2.hist([county['incidences'][date_index] for county in covid19.values()],\n",
    "             bins=[e for e in range(0,351,25)]+[350, 100000], color=\"darkslategrey\",\n",
    "                                edgecolor=\"black\")\n",
    "    bin_centers = 0.5*(bins[:-1]+bins[1:])\n",
    "    col = bin_centers - min(bin_centers)\n",
    "    red_yellow_green_index=0\n",
    "    for c, p in zip(col, patches):\n",
    "        if len(red_yellow_green) <= red_yellow_green_index:\n",
    "            plt.setp(p, \"facecolor\", \"black\")\n",
    "        else:\n",
    "            plt.setp(p, \"facecolor\", red_yellow_green[red_yellow_green_index])\n",
    "        red_yellow_green_index += 25\n",
    "    plot_distribution_of_incidences_over_350(date_index)"
   ]
  },
  {
   "cell_type": "code",
   "execution_count": 8,
   "metadata": {},
   "outputs": [],
   "source": [
    "def plot_distribution_of_incidences_over_350(date_index):\n",
    "    ax4 = plt.axes([1.55, 0.31, 0.04, 0.36], facecolor='lightgrey') # [left, bottom, width, height]\n",
    "    ax4.axes.get_yaxis().set_visible(False)\n",
    "    plt.xticks([375],[\">350\"],fontsize=70)\n",
    "    plt.xlim(350, 400)\n",
    "    plt.ylim(0, 150)\n",
    "    _, bins, patches = ax4.hist([county['incidences'][date_index] for county in covid19.values()],\n",
    "             bins=[0, 350, 100000], color=\"darkslategrey\", edgecolor=\"black\")\n",
    "    bin_centers = 0.5*(bins[:-1]+bins[1:])\n",
    "    col = bin_centers - min(bin_centers)\n",
    "    for c, p in zip(col, patches):\n",
    "        plt.setp(p, \"facecolor\", \"black\")"
   ]
  },
  {
   "cell_type": "code",
   "execution_count": 9,
   "metadata": {},
   "outputs": [],
   "source": [
    "for date_index in range(0,8):# len(non_county_specific_data['UTC'])):\n",
    "    fig = plt.figure(figsize = (50, 65), facecolor='darkgrey')\n",
    "    ax = plt.axes(frameon=False)\n",
    "    ax.axes.get_xaxis().set_visible(False)\n",
    "    ax.axes.get_yaxis().set_visible(False)\n",
    "    plot_map_of_germany_incidences(date_index, fig, ax)\n",
    "    plot_distribution_of_incidences(date_index)\n",
    "    plot_legend_incidences()\n",
    "    plt.text(0.5, -25, non_county_specific_data['UTC+7days'][date_index] + \" to \",\n",
    "             fontsize=80)\n",
    "    plt.text(0.5, -39, non_county_specific_data['UTC+7days'][date_index + 7],\n",
    "             fontsize=80)\n",
    "    plt.text(17.5, 337, r'\\textbf{\\underline{Seven-days-incidence in Germany}}',\n",
    "              fontweight=220, fontsize=170, usetex=True)\n",
    "    plt.text(17.5, 317, \"The COVID-19 cases of every German county\", fontsize=110)\n",
    "    plt.text(17.5, 297, \"per week scaled to 100.000 people.\", fontsize=110)\n",
    "    plt.text(17.5, 12, \"Data from the COVID-19 Datenhub referenced by the Robert-Koch-Institut (www.rki.de):\",\n",
    "             fontsize=55)\n",
    "    plt.text(17.5, 2, 'npgeo-corona-npgeo-de.hub.arcgis.com (Used \"RKI History\" and \"RKI Corona Landkreise\")',\n",
    "             fontsize=55)\n",
    "    plt.text(17.5, -13, 'Created by Leander Bürkin (leander.buerkin@gmail.com),',\n",
    "             fontsize=55)\n",
    "    plt.text(17.5, -23, 'Laboratory for Simulation, Prof. Dr. Lars Pastewka, Albert-Ludwigs-Universität Freiburg',\n",
    "             fontsize=55)\n",
    "    plt.text(17.5, -33, 'https://github.com/leanderbuerkin/germany_model_reconstruction',\n",
    "             fontsize=55)\n",
    "    plt.savefig(\"media/germany_incidence_V4/\" + str(date_index) + '.png',\n",
    "                facecolor=\"darkgrey\", bbox_inches=Bbox([[-3.5,9],[84,57]]))\n",
    "    plt.close('all')"
   ]
  },
  {
   "cell_type": "code",
   "execution_count": 10,
   "metadata": {},
   "outputs": [
    {
     "ename": "IndexError",
     "evalue": "list index out of range",
     "output_type": "error",
     "traceback": [
      "\u001b[1;31m---------------------------------------------------------------------------\u001b[0m",
      "\u001b[1;31mIndexError\u001b[0m                                Traceback (most recent call last)",
      "\u001b[1;32m<ipython-input-10-7e16cb443cb6>\u001b[0m in \u001b[0;36m<module>\u001b[1;34m\u001b[0m\n\u001b[0;32m      1\u001b[0m \u001b[0mg\u001b[0m \u001b[1;33m=\u001b[0m \u001b[0mlist\u001b[0m\u001b[1;33m(\u001b[0m\u001b[1;33m)\u001b[0m\u001b[1;33m\u001b[0m\u001b[1;33m\u001b[0m\u001b[0m\n\u001b[1;32m----> 2\u001b[1;33m \u001b[0mg\u001b[0m\u001b[1;33m[\u001b[0m\u001b[1;36m1\u001b[0m\u001b[1;33m]\u001b[0m\u001b[1;33m\u001b[0m\u001b[1;33m\u001b[0m\u001b[0m\n\u001b[0m",
      "\u001b[1;31mIndexError\u001b[0m: list index out of range"
     ]
    }
   ],
   "source": [
    "g = list()\n",
    "g[1]"
   ]
  },
  {
   "cell_type": "markdown",
   "metadata": {},
   "source": [
    "## Plot examples"
   ]
  },
  {
   "cell_type": "code",
   "execution_count": null,
   "metadata": {},
   "outputs": [],
   "source": [
    "# copy to check that all counties are related to a federal state\n",
    "covid19_copy = covid19.copy()\n",
    "for stateID, state in non_county_specific_data['states'].items():\n",
    "    plt.figure(figsize=(20, 5))    # enlarge plot\n",
    "    plt.title(\"Incidences in {} {}\".format(stateID, state))\n",
    "    plt.xticks(non_county_specific_data[\"unixtime\"][::7],\n",
    "               non_county_specific_data['UTC'][::7], rotation='vertical')\n",
    "    for AdmUnitID, county in covid19.items():\n",
    "        if AdmUnitID[:-3] == stateID:\n",
    "            plt.plot(non_county_specific_data[\"unixtime\"], county['incidences'])\n",
    "            del covid19_copy[AdmUnitID]\n",
    "    plt.show()"
   ]
  },
  {
   "cell_type": "code",
   "execution_count": null,
   "metadata": {},
   "outputs": [],
   "source": [
    "if len(covid19_copy) != 0:\n",
    "    print('There seems to be at least one county being unrelated to any federal state:')\n",
    "    for AdmUnitID in covid19_copy.keys():\n",
    "        print(AdmUnitID + \" \" + counties_geography[AdmUnitId]['name'])"
   ]
  },
  {
   "cell_type": "code",
   "execution_count": null,
   "metadata": {
    "scrolled": true
   },
   "outputs": [],
   "source": [
    "acc = list()\n",
    "for e in [county['incidences'] for county in covid19.values()]:\n",
    "    for i in e:\n",
    "        if i>100 and i<101:\n",
    "            acc.append(i)\n",
    "acc.sort()\n",
    "plt.yticks([350,400])\n",
    "plt.title(str(len(acc)))\n",
    "plt.plot(acc)\n",
    "plt.show()"
   ]
  },
  {
   "cell_type": "markdown",
   "metadata": {},
   "source": [
    "## Plot data of one state"
   ]
  },
  {
   "cell_type": "code",
   "execution_count": null,
   "metadata": {},
   "outputs": [],
   "source": [
    "example_state_ID = \"13\"\n",
    "print(\"You have chosen {} {}\".format(example_state_ID, non_county_specific_data['states'][example_state_ID]))"
   ]
  },
  {
   "cell_type": "code",
   "execution_count": null,
   "metadata": {},
   "outputs": [],
   "source": [
    "counties_in_example_state = list()\n",
    "for AdmUnitID, county in covid19.items():\n",
    "    if AdmUnitID[:-3] == \"13\":\n",
    "        counties_in_example_state.append(AdmUnitID)\n",
    "        plt.figure(figsize=(20, 5))    # enlarge plot\n",
    "        plt.xticks(non_county_specific_data[\"unixtime\"][::7],\n",
    "                   non_county_specific_data['UTC'][::7], rotation='vertical')\n",
    "        plt.plot(non_county_specific_data[\"unixtime\"], county['incidences'])\n",
    "        plt.title(\"Incidences in \" + AdmUnitID + \" \" + counties_geography[AdmUnitID]['name'])\n",
    "        plt.show()"
   ]
  },
  {
   "cell_type": "code",
   "execution_count": null,
   "metadata": {},
   "outputs": [],
   "source": [
    "# plt.figure(figsize = (20, 20))    # enlarge plot\n",
    "for AdmUnitID in counties_in_example_state:\n",
    "    # get last incidence and divide it by the highest incidence to get a number between 0 and 1\n",
    "    # to get the full range of colors the both incidence values get subtracted by the lowest incidence\n",
    "    color_step = covid19[AdmUnitID]['incidences'][-1]/250\n",
    "    # everything bellow 0.5 gets drawn green\n",
    "    if color_step > 1:\n",
    "        color = (1, 1, 0)\n",
    "    elif color_step < 0.2:\n",
    "        color = (color_step * 5, 1, 0)\n",
    "    else:\n",
    "        color_step = (color_step - 0.2) * 1.25\n",
    "        color = (1, 1 - color_step, 0)\n",
    "    for polygon in counties_geography[AdmUnitID]['geometry']:\n",
    "        x,y = np.array(polygon).T\n",
    "        plt.fill(x, y, color=color)\n",
    "plt.show()"
   ]
  },
  {
   "cell_type": "code",
   "execution_count": null,
   "metadata": {},
   "outputs": [],
   "source": []
  }
 ],
 "metadata": {
  "kernelspec": {
   "display_name": "Python 3",
   "language": "python",
   "name": "python3"
  },
  "language_info": {
   "codemirror_mode": {
    "name": "ipython",
    "version": 3
   },
   "file_extension": ".py",
   "mimetype": "text/x-python",
   "name": "python",
   "nbconvert_exporter": "python",
   "pygments_lexer": "ipython3",
   "version": "3.7.6"
  }
 },
 "nbformat": 4,
 "nbformat_minor": 4
}
