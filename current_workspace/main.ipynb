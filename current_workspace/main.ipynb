{
 "cells": [
  {
   "cell_type": "markdown",
   "metadata": {},
   "source": [
    "# ToDo: Name"
   ]
  },
  {
   "cell_type": "code",
   "execution_count": null,
   "metadata": {},
   "outputs": [],
   "source": [
    "import numpy as np    # casting the polygons into np.arrays allows to transpose them easily with the .T function\n",
    "import matplotlib.pyplot as plt    # to plot the counties\n",
    "import json    # to save the data as json in a file\n",
    "import os.path    # to check if their's a local file with the API-data or if a new API pull is inevitable"
   ]
  },
  {
   "cell_type": "markdown",
   "metadata": {},
   "source": [
    "## Control"
   ]
  },
  {
   "cell_type": "code",
   "execution_count": null,
   "metadata": {},
   "outputs": [],
   "source": [
    "# pulls new data about the shapes of the counties from the API \n",
    "# (or takes old, local backup from API, depends on the variable county_shapes_new_pull_from_api)\n",
    "# and polishes it again\n",
    "county_shapes_use_polished_data = False"
   ]
  },
  {
   "cell_type": "markdown",
   "metadata": {},
   "source": [
    "## Collect all data"
   ]
  },
  {
   "cell_type": "markdown",
   "metadata": {},
   "source": [
    "### Get county shapes of the german counties\n",
    "Either use old polished version or make new pull from API and polish it.\n",
    "Depending on the variable county_shapes_use_polished_data in the controls of this file."
   ]
  },
  {
   "cell_type": "code",
   "execution_count": null,
   "metadata": {},
   "outputs": [],
   "source": [
    "# check if a polished version of the german counties shapes exists\n",
    "# and otherwise initiate a new pull from the API\n",
    "if not(os.path.isfile(\"modified_data/german_county_shapes.txt\")):\n",
    "    county_shapes_use_polished_data = False"
   ]
  },
  {
   "cell_type": "code",
   "execution_count": null,
   "metadata": {},
   "outputs": [],
   "source": [
    "if county_shapes_use_polished_data:\n",
    "    with open(\"modified_data/german_county_shapes.txt\", \"r\") as file:\n",
    "        county_shapes = json.loads(file.read())\n",
    "else:\n",
    "    %run get_shapes_of_german_counties.ipynb"
   ]
  },
  {
   "cell_type": "code",
   "execution_count": null,
   "metadata": {},
   "outputs": [],
   "source": [
    "plt.figure(figsize = (20, 20))    # enlarge plot\n",
    "for county in county_shapes.values():\n",
    "    for polygon in county['geometry']:\n",
    "        x,y = np.array(polygon).T\n",
    "        plt.fill(x, y)\n",
    "plt.show()"
   ]
  }
 ],
 "metadata": {
  "kernelspec": {
   "display_name": "Python 3",
   "language": "python",
   "name": "python3"
  },
  "language_info": {
   "codemirror_mode": {
    "name": "ipython",
    "version": 3
   },
   "file_extension": ".py",
   "mimetype": "text/x-python",
   "name": "python",
   "nbconvert_exporter": "python",
   "pygments_lexer": "ipython3",
   "version": "3.7.6"
  }
 },
 "nbformat": 4,
 "nbformat_minor": 4
}
