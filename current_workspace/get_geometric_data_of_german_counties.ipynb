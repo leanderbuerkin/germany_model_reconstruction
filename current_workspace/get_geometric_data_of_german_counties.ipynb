{
 "cells": [
  {
   "cell_type": "markdown",
   "metadata": {},
   "source": [
    "# Get size and coordinates of every german county\n",
    "Used to map the Covid-19 cases of germany on a map"
   ]
  },
  {
   "cell_type": "code",
   "execution_count": 1,
   "metadata": {},
   "outputs": [],
   "source": [
    "from json2xml.utils import readfromurl    # to convert the json from the API into a python list\n",
    "import numpy as np    # casting the polygons into np.arrays allows to transpose them easily with the .T function\n",
    "import matplotlib.pyplot as plt    # to plot the counties\n",
    "import json    # to save the data as json in a file\n",
    "import os.path    # to check if their's a local file with the API-data or if a new API pull is inevitable"
   ]
  },
  {
   "cell_type": "markdown",
   "metadata": {},
   "source": [
    "## Control\n",
    "Set variables to true to trigger the action described by the variables name."
   ]
  },
  {
   "cell_type": "code",
   "execution_count": 2,
   "metadata": {},
   "outputs": [],
   "source": [
    "show_examples_for_functions_for_easier_use_of_the_data = False\n",
    "plot_unpolished_data_for_rough_overview = False    # takes approximately 2 minutes longer\n",
    "plot_modified_data_for_rough_overview = False    # takes approximately 2 minutes longer\n",
    "new_pull_from_api = False\n",
    "only_plot_counties_with_an_index_higher_than_this = 413    # highest: 412"
   ]
  },
  {
   "cell_type": "markdown",
   "metadata": {},
   "source": [
    "## Get the data and safe it in a file\n",
    "Set the correct URL to the arcgis services. From there we get multiple geometrical informations about the german counties, for us relevant are their size, their length, their shape and their inhabitants number.\n",
    "<br/>\n",
    "In the second step the json from the URL gets interpreted as a dictionary."
   ]
  },
  {
   "cell_type": "code",
   "execution_count": 3,
   "metadata": {},
   "outputs": [],
   "source": [
    "# if the data does not contain that many counties, the program raises an error and pulls from a local backup of the API pull\n",
    "number_of_counties = 412"
   ]
  },
  {
   "cell_type": "code",
   "execution_count": 4,
   "metadata": {
    "scrolled": true
   },
   "outputs": [
    {
     "name": "stdout",
     "output_type": "stream",
     "text": [
      "Data from old API-pull is ready to go!\n"
     ]
    }
   ],
   "source": [
    "# check if a local pull of the API exists and otherwise initiate a new pull from the API\n",
    "if not(os.path.isfile('german_county_data.txt')): new_pull_from_api = True\n",
    "\n",
    "# check if new pull from the API is necessary or wished and if it is even possible otherwise \"pull\" from local backup\n",
    "if new_pull_from_api:\n",
    "    # get data\n",
    "    url = \"https://services7.arcgis.com/mOBPykOjAyBO2ZKk/arcgis/rest/services/RKI_Landkreisdaten/FeatureServer/0/query?where=1%3D1&outFields=*&outSR=4326&f=json\"\n",
    "    data = readfromurl(url)\n",
    "    # data is maybe faulty: report to user and use local backup of old API pull\n",
    "    if len(data[\"features\"]) != number_of_counties:\n",
    "        new_pull_from_api = False\n",
    "        print(\"The provided data from the API does not have the preset number of counties of {}, it has {}.\".format(number_of_counties, len(data[\"features\"])))\n",
    "    # data seems to be fine: continue\n",
    "    else:    # only store flawless data\n",
    "        with open(\"german_county_data.txt\", \"w\") as file:\n",
    "            file.write(json.dumps(data))\n",
    "        print(\"Data directly from API is ready to go!\")\n",
    "\n",
    "# Use data from local backup originating from old API pull\n",
    "# new_pull_from_api gets modified in the if-statement - therefore no else-statement here\n",
    "if not(new_pull_from_api):\n",
    "    with open(\"german_county_data.txt\", \"r\") as file:\n",
    "        data = json.loads(file.read())\n",
    "    print(\"Data from old API-pull is ready to go!\")"
   ]
  },
  {
   "cell_type": "markdown",
   "metadata": {},
   "source": [
    "## Draw the counties\n",
    "Every countys shape can be reached by calling the value of \"geometry\" and afterwards \"rings\". Kept in a very basic way to demonstrate the used data."
   ]
  },
  {
   "cell_type": "code",
   "execution_count": 5,
   "metadata": {},
   "outputs": [],
   "source": [
    "if plot_unpolished_data_for_rough_overview:\n",
    "    plt.figure(figsize=(20, 20))    # enlarge plot\n",
    "    # put all shapes into the plot\n",
    "    for county in data['features']:\n",
    "        for polygon in county['geometry']['rings']:\n",
    "            x,y = np.array(polygon).T\n",
    "            plt.fill(x, y)\n",
    "    plt.show()    # draw plot"
   ]
  },
  {
   "cell_type": "markdown",
   "metadata": {},
   "source": [
    "## Functions for easier use of the data\n",
    "### county_name_and_id(county): returns string\n",
    "returns a string containing the ID of a county and it's name separated by a whitespace.\n",
    "### counties_name_and_id(counties): returns string\n",
    "calls county_name_and_id() for every county in counties (separated by a \", \" and the last with an \"and\")\n",
    "### draw_polygon(polygon, plot_immediately, color): returns void (could show a plot)\n",
    "**polygon**<br/>\n",
    "-> shape of the polygon/county\n",
    "<br/>\n",
    "**plot_immediately** (default: True)<br/>\n",
    "-> Determines whether \"plt.show()\" gets executed or not. If not the plot will be drawn with all other plots created in the same manner whenever plt.show() is called - allows to draw multiple polygons in one coordinate system\n",
    "<br/>\n",
    "**color** (default: None (standard color sequence))<br/>\n",
    "-> sets the color of the polygon\n",
    "### draw_polygons(polygons, plot_single, plot_immediately , plt_color):\n",
    "**polygons**<br/>\n",
    "-> shapes of polygons/counties\n",
    "<br/>\n",
    "**plot_single** (default: False)<br/>\n",
    "-> determines wether every polygon shall be drawn in it's on coordinate system or if all polygons shall be accumulated in one\n",
    "<br/>\n",
    "**plot_immediately** (default: True)<br/>\n",
    "-> Determines whether \"plt.show()\" gets executed in the end or not. If not the plot will be drawn with all other plots created in the same manner whenever plt.show() is called - allows to draw multiple polygons in one coordinate system\n",
    "<br/>\n",
    "**color** (default: None (standard color sequence))<br/>\n",
    "-> sets the color of the polygons"
   ]
  },
  {
   "cell_type": "code",
   "execution_count": 6,
   "metadata": {},
   "outputs": [],
   "source": [
    "def county_name_and_id(county):\n",
    "    return '{} {}'.format(county['attributes']['OBJECTID'],county['attributes']['county'])\n",
    "\n",
    "def counties_name_and_id(counties):\n",
    "    # first county, no comma:\n",
    "    result = county_name_and_id(counties[0])\n",
    "    # all following with comma\n",
    "    for county in counties[1:-1]:\n",
    "        result += ', {}'.format(county_name_and_id(county))\n",
    "    # last one with \" and \"\n",
    "    result += ' and {}'.format(county_name_and_id(counties[-1]))\n",
    "    return result\n",
    "\n",
    "if show_examples_for_functions_for_easier_use_of_the_data:\n",
    "    print(county_name_and_id(data['features'][0]))\n",
    "    # e.g. to display county 43 to 69\n",
    "    print(counties_name_and_id(data['features'][42:69]))\n",
    "    print()\n",
    "    # e.g. to display all counties with their OBJECTID\n",
    "    for county in data['features']:\n",
    "        print(county_name_and_id(county))"
   ]
  },
  {
   "cell_type": "code",
   "execution_count": 7,
   "metadata": {},
   "outputs": [],
   "source": [
    "def draw_polygon(polygon, plot_immediately = True, plt_color = None):\n",
    "    x,y = np.array(polygon).T\n",
    "    if plt_color:\n",
    "        plt.fill(x, y, color = plt_color)\n",
    "    else:\n",
    "        plt.fill(x, y)\n",
    "    if plot_immediately: plt.show()\n",
    "\n",
    "\n",
    "def draw_polygons(polygons, plot_single = False, plot_immediately = True, plt_color = None):\n",
    "    for polygon in polygons[:-1]:\n",
    "        draw_polygon(polygon, plot_single, plt_color)\n",
    "    if len(polygons):\n",
    "        draw_polygon(polygons[-1], plot_immediately, plt_color)\n",
    "\n",
    "\n",
    "\n",
    "\n",
    "if show_examples_for_functions_for_easier_use_of_the_data:\n",
    "    # e.g. to display this rectangle in\n",
    "    print(\"all default: color by standard color scheme and plot immediately\")\n",
    "    draw_polygon([[1, 1], [1, 2], [2, 2], [2, 1]])\n",
    "\n",
    "\n",
    "    print(\"change color to red ('r')\")\n",
    "    draw_polygon([[1, 1], [1, 2], [2, 2], [2, 1]], True, \"r\")\n",
    "\n",
    "\n",
    "    print(\"change color to red ('r') and don't draw it\")\n",
    "    draw_polygon([[1, 1], [1, 2], [2, 2], [2, 1]], False, \"r\")\n",
    "    print(\"cutout center of the red square from directly above and plot it (color is white)\")\n",
    "    draw_polygon([[1.25, 1.25], [1.25, 1.75], [1.75, 1.75], [1.75, 1.25]], True, \"w\")\n",
    "\n",
    "    print(\"drawing multiple polygons into one plot with the draw_polygons function:\")\n",
    "    draw_polygons([[[-1, 1], [-1, 2], [-2, 2], [-2, 1]],\n",
    "                   [[1.25, 1.25], [1.25, 1.75], [1.75, 1.75], [1.75, 1.25]]],\n",
    "                  False, True, \"r\")"
   ]
  },
  {
   "cell_type": "markdown",
   "metadata": {},
   "source": [
    "## Backup shapes and filter the counties with multiple polygons\n",
    "Every countys shape can be reached by calling the value of \"geometry\" and afterwards \"rings\".\n",
    "<br/>\n",
    "In the following the polygons get a second refernce as backup: \"raw_rings\"\n",
    "Because the polygons are by far the biggest part of the data we only want to duplicate them if necessary that's why only a reference and no copy.\n",
    "This bit risky but more efficient option is also chosen because the original data\n",
    "is backupped as a whole in \"german_county_data.txt\" as well.\n",
    "<br/><br/>\n",
    "Visualization of the refernce and copy properties:"
   ]
  },
  {
   "cell_type": "code",
   "execution_count": 8,
   "metadata": {},
   "outputs": [
    {
     "name": "stdout",
     "output_type": "stream",
     "text": [
      "[1, 5, 3] [1, 5, 3]\n",
      "[] [1, 5, 3]\n"
     ]
    }
   ],
   "source": [
    "a = [1, 2, 3]\n",
    "backup_of_a = a\n",
    "a[1] = 5    # destroys the backup\n",
    "print(a, backup_of_a)\n",
    "a = list()    # sets a new refernce\n",
    "print(a, backup_of_a)"
   ]
  },
  {
   "cell_type": "markdown",
   "metadata": {},
   "source": [
    "Counties with no enclaves or whatsoever have one polygon stored in the value corresponding to \"rings\",\n",
    "all others have the cutouts or enclaves stored as extra polygons.\n",
    "<br/>\n",
    "So we go through all the counties and if one of them has more than one polygon stored as shape, we store it's index in index_of_counties_with_multiple_polygons\n",
    "<br/><br/>\n",
    "**!!!Remember to store the original polygons under data['features'][county_index]['geometry']['raw_rings'] before you modify it!!!**<br/>\n",
    "**!!!And only modify them by setting the whole array, by manipulating single elements no new reference is created!!!**"
   ]
  },
  {
   "cell_type": "code",
   "execution_count": 9,
   "metadata": {},
   "outputs": [],
   "source": [
    "index_of_counties_with_multiple_polygons = list()\n",
    "for county_index in range(len(data['features'])):\n",
    "    countys_geometry = data['features'][county_index]['geometry']\n",
    "    # referencing the original polygons\n",
    "    countys_geometry['raw_rings'] = countys_geometry['rings']\n",
    "    # store the index of every county with more than one polygon\n",
    "    if len(countys_geometry['rings']) > 1:\n",
    "        index_of_counties_with_multiple_polygons.append(county_index)"
   ]
  },
  {
   "cell_type": "markdown",
   "metadata": {},
   "source": [
    "## Check the counties with multiple polygons\n",
    "If a county has more than one polygon stored as shape, it must be checked whether it's polygons are cutouts or real area.\n",
    "The fastest way is to do this by hand, so there are three functions to support that:<br/>\n",
    "draw_polygons_of_county(county_index, draw_original_polygons = True) (plots polygons of given county),<br/>\n",
    "set_polygons_of_county(county_index, areas_or_cutouts_list) (processes the decision of the user) and <br/>\n",
    "generator_index_of_counties_with_multiple_polygons() (a generator to iterate over the counties with multiple polygons)\n",
    "<br/><br/>\n",
    "set_polygons_of_county executes the preferred action for the polygon and stores the modified version in 'rings':\n",
    "- just \"add\" the polygon to 'rings',\n",
    "- \"remove\"/cut the polygon out of it's predecessor in the polygon list\n",
    "  (this is done by adding it to the prior polygon and adding the last coordinate again,\n",
    "  so technicaly there's a small slice cut out of the reala area, this is no problem for our purposes)\n",
    "- or simply \"exclude\" the polygon."
   ]
  },
  {
   "cell_type": "code",
   "execution_count": 10,
   "metadata": {},
   "outputs": [],
   "source": [
    "def draw_polygons_of_county(county_index, draw_original_polygons = True):\n",
    "    # only_plot_counties_with_an_index_higher_than_this\n",
    "    # gets set at the begining of the file to execute faster\n",
    "    if only_plot_counties_with_an_index_higher_than_this <= county_index:\n",
    "        county = data['features'][county_index]\n",
    "        # title of the plot\n",
    "        plt.title(\"{} with {} polygons\".format(county_name_and_id(county), len(county['geometry']['raw_rings'])))\n",
    "        plt.rcParams[\"figure.figsize\"]= (20, 20)    # enlarge plot\n",
    "        if draw_original_polygons:\n",
    "            draw_polygons(county['geometry']['raw_rings'])\n",
    "        else:\n",
    "            draw_polygons(county['geometry']['rings'])"
   ]
  },
  {
   "cell_type": "code",
   "execution_count": 11,
   "metadata": {},
   "outputs": [],
   "source": [
    "def set_polygons_of_county(county_index, areas_or_cutouts_list):\n",
    "    county = data['features'][county_index]\n",
    "    # check if every polygon gets a value:\n",
    "    # - \"exclude\" to discard polygon\n",
    "    # - \"add\" to leave as is (for enclaves)\n",
    "    # - \"remove\" to trade as cutout: add it to the prior polygon (not possible for first polygon)\n",
    "    if len(county['geometry']['raw_rings']) != len(areas_or_cutouts_list):\n",
    "        raise Exception(\"lists of areas and cutouts and the polygon list do not have the same length: {} =/= {}\".format(\n",
    "        len(areas_or_cutouts_list), len(county['geometry']['raw_rings'])))\n",
    "\n",
    "    # create new object at 'rings' to not destroy the backup (explained in the docstring)\n",
    "    county['geometry']['rings'] = list()\n",
    "\n",
    "    # process user information:\n",
    "    for polygon_index in range(len(county['geometry']['raw_rings'])):\n",
    "        if areas_or_cutouts_list[polygon_index] == \"add\":\n",
    "            county['geometry']['rings'].append(county['geometry']['raw_rings'][polygon_index].copy())\n",
    "        elif areas_or_cutouts_list[polygon_index] == \"remove\":\n",
    "            if polygon_index == 0:\n",
    "                raise Exception(\"The first polygon can't be cutout of it's prior polygon because there's no prior polygon\")\n",
    "            county['geometry']['rings'][-1] += (county['geometry']['raw_rings'][polygon_index].copy()) + [county['geometry']['rings'][-1][-1]]\n",
    "        # nothing needs to be done if the command is \"exclude\", but if the command is unknown an error shall be raised\n",
    "        elif not(areas_or_cutouts_list[polygon_index] == \"exclude\"):\n",
    "            raise Exception(\"The command {} is not known - use 'add', 'remove' or 'exclude'\".format(areas_or_cutouts_list[polygon_index]))\n",
    "\n",
    "    # draw to control\n",
    "    draw_polygons_of_county(county_index, False)"
   ]
  },
  {
   "cell_type": "code",
   "execution_count": 12,
   "metadata": {},
   "outputs": [],
   "source": [
    "def generator_index_of_counties_with_multiple_polygons():\n",
    "    for index_of_county_with_multiple_polygons in index_of_counties_with_multiple_polygons:\n",
    "        yield index_of_county_with_multiple_polygons\n",
    "unchecked_counties = generator_index_of_counties_with_multiple_polygons()"
   ]
  },
  {
   "cell_type": "code",
   "execution_count": 13,
   "metadata": {},
   "outputs": [],
   "source": [
    "current_county_index = next(unchecked_counties)\n",
    "draw_polygons_of_county(current_county_index)\n",
    "set_polygons_of_county(current_county_index, [\"add\", \"remove\"])"
   ]
  },
  {
   "cell_type": "code",
   "execution_count": 14,
   "metadata": {},
   "outputs": [],
   "source": [
    "current_county_index = next(unchecked_counties)\n",
    "draw_polygons_of_county(current_county_index)\n",
    "set_polygons_of_county(current_county_index, [\"add\", \"add\"])"
   ]
  },
  {
   "cell_type": "code",
   "execution_count": 15,
   "metadata": {},
   "outputs": [],
   "source": [
    "current_county_index = next(unchecked_counties)\n",
    "draw_polygons_of_county(current_county_index)\n",
    "set_polygons_of_county(current_county_index, [\"add\", \"add\"])"
   ]
  },
  {
   "cell_type": "code",
   "execution_count": 16,
   "metadata": {},
   "outputs": [],
   "source": [
    "current_county_index = next(unchecked_counties)\n",
    "draw_polygons_of_county(current_county_index)\n",
    "set_polygons_of_county(current_county_index, [\"add\", \"add\", \"add\", \"add\", \"add\", \"add\", \"add\", \"add\", \"add\", \"add\", \"add\", \"add\", \"add\", \"add\", \"add\", \"add\"])"
   ]
  },
  {
   "cell_type": "code",
   "execution_count": 17,
   "metadata": {},
   "outputs": [],
   "source": [
    "current_county_index = next(unchecked_counties)\n",
    "draw_polygons_of_county(current_county_index)\n",
    "set_polygons_of_county(current_county_index, [\"add\", \"add\", \"add\", \"add\"])"
   ]
  },
  {
   "cell_type": "code",
   "execution_count": 18,
   "metadata": {},
   "outputs": [],
   "source": [
    "current_county_index = next(unchecked_counties)\n",
    "draw_polygons_of_county(current_county_index)\n",
    "set_polygons_of_county(current_county_index, [\"add\", \"add\", \"add\", \"add\", \"add\", \"add\", \"add\", \"add\"])"
   ]
  },
  {
   "cell_type": "code",
   "execution_count": 19,
   "metadata": {},
   "outputs": [],
   "source": [
    "current_county_index = next(unchecked_counties)\n",
    "draw_polygons_of_county(current_county_index)\n",
    "set_polygons_of_county(current_county_index, [\"add\", \"remove\"])"
   ]
  },
  {
   "cell_type": "code",
   "execution_count": 20,
   "metadata": {},
   "outputs": [],
   "source": [
    "current_county_index = next(unchecked_counties)\n",
    "draw_polygons_of_county(current_county_index)\n",
    "set_polygons_of_county(current_county_index, [\"add\", \"add\", \"add\"])"
   ]
  },
  {
   "cell_type": "code",
   "execution_count": 21,
   "metadata": {
    "scrolled": true
   },
   "outputs": [],
   "source": [
    "current_county_index = next(unchecked_counties)\n",
    "draw_polygons_of_county(current_county_index)\n",
    "set_polygons_of_county(current_county_index, [\"add\", \"add\", \"add\", \"add\"])"
   ]
  },
  {
   "cell_type": "code",
   "execution_count": 22,
   "metadata": {},
   "outputs": [],
   "source": [
    "current_county_index = next(unchecked_counties)\n",
    "draw_polygons_of_county(current_county_index)\n",
    "set_polygons_of_county(current_county_index, [\"add\", \"add\"])"
   ]
  },
  {
   "cell_type": "code",
   "execution_count": 23,
   "metadata": {},
   "outputs": [],
   "source": [
    "current_county_index = next(unchecked_counties)\n",
    "draw_polygons_of_county(current_county_index)\n",
    "set_polygons_of_county(current_county_index, [\"add\", \"add\", \"add\", \"add\", \"add\"])"
   ]
  },
  {
   "cell_type": "code",
   "execution_count": 24,
   "metadata": {},
   "outputs": [],
   "source": [
    "current_county_index = next(unchecked_counties)\n",
    "draw_polygons_of_county(current_county_index)\n",
    "set_polygons_of_county(current_county_index, [\"add\", \"add\"])"
   ]
  },
  {
   "cell_type": "code",
   "execution_count": 25,
   "metadata": {},
   "outputs": [],
   "source": [
    "current_county_index = next(unchecked_counties)\n",
    "draw_polygons_of_county(current_county_index)\n",
    "set_polygons_of_county(current_county_index, [\"add\", \"add\"])"
   ]
  },
  {
   "cell_type": "code",
   "execution_count": 26,
   "metadata": {},
   "outputs": [],
   "source": [
    "current_county_index = next(unchecked_counties)\n",
    "draw_polygons_of_county(current_county_index)\n",
    "set_polygons_of_county(current_county_index, [\"add\", \"remove\"])"
   ]
  },
  {
   "cell_type": "code",
   "execution_count": 27,
   "metadata": {},
   "outputs": [],
   "source": [
    "current_county_index = next(unchecked_counties)\n",
    "draw_polygons_of_county(current_county_index)\n",
    "set_polygons_of_county(current_county_index, [\"add\", \"add\", \"add\"])"
   ]
  },
  {
   "cell_type": "code",
   "execution_count": 28,
   "metadata": {},
   "outputs": [],
   "source": [
    "current_county_index = next(unchecked_counties)\n",
    "draw_polygons_of_county(current_county_index)\n",
    "set_polygons_of_county(current_county_index, [\"add\", \"remove\", \"remove\"])"
   ]
  },
  {
   "cell_type": "code",
   "execution_count": 29,
   "metadata": {},
   "outputs": [],
   "source": [
    "current_county_index = next(unchecked_counties)\n",
    "draw_polygons_of_county(current_county_index)\n",
    "set_polygons_of_county(current_county_index, [\"add\", \"remove\"])"
   ]
  },
  {
   "cell_type": "code",
   "execution_count": 30,
   "metadata": {},
   "outputs": [],
   "source": [
    "current_county_index = next(unchecked_counties)\n",
    "draw_polygons_of_county(current_county_index)\n",
    "set_polygons_of_county(current_county_index, [\"add\", \"add\", \"add\", \"add\", \"add\", \"add\", \"add\"])"
   ]
  },
  {
   "cell_type": "code",
   "execution_count": 31,
   "metadata": {},
   "outputs": [],
   "source": [
    "current_county_index = next(unchecked_counties)\n",
    "draw_polygons_of_county(current_county_index)\n",
    "set_polygons_of_county(current_county_index, [\"add\", \"add\", \"add\"])"
   ]
  },
  {
   "cell_type": "code",
   "execution_count": 32,
   "metadata": {},
   "outputs": [],
   "source": [
    "current_county_index = next(unchecked_counties)\n",
    "draw_polygons_of_county(current_county_index)\n",
    "set_polygons_of_county(current_county_index, [\"add\", \"add\", \"add\", \"add\", \"add\"])"
   ]
  },
  {
   "cell_type": "code",
   "execution_count": 33,
   "metadata": {},
   "outputs": [],
   "source": [
    "current_county_index = next(unchecked_counties)\n",
    "draw_polygons_of_county(current_county_index)\n",
    "set_polygons_of_county(current_county_index, [\"add\", \"remove\"])"
   ]
  },
  {
   "cell_type": "code",
   "execution_count": 34,
   "metadata": {},
   "outputs": [],
   "source": [
    "current_county_index = next(unchecked_counties)\n",
    "draw_polygons_of_county(current_county_index)\n",
    "set_polygons_of_county(current_county_index, [\"add\", \"add\"])"
   ]
  },
  {
   "cell_type": "code",
   "execution_count": 35,
   "metadata": {},
   "outputs": [],
   "source": [
    "current_county_index = next(unchecked_counties)\n",
    "draw_polygons_of_county(current_county_index)\n",
    "set_polygons_of_county(current_county_index, [\"add\", \"add\", \"add\"])"
   ]
  },
  {
   "cell_type": "code",
   "execution_count": 36,
   "metadata": {
    "scrolled": true
   },
   "outputs": [],
   "source": [
    "current_county_index = next(unchecked_counties)\n",
    "draw_polygons_of_county(current_county_index)\n",
    "set_polygons_of_county(current_county_index, [\"add\", \"add\"])"
   ]
  },
  {
   "cell_type": "code",
   "execution_count": 37,
   "metadata": {},
   "outputs": [],
   "source": [
    "current_county_index = next(unchecked_counties)\n",
    "draw_polygons_of_county(current_county_index)\n",
    "set_polygons_of_county(current_county_index, [\"add\", \"add\", \"add\"])"
   ]
  },
  {
   "cell_type": "code",
   "execution_count": 38,
   "metadata": {},
   "outputs": [],
   "source": [
    "current_county_index = next(unchecked_counties)\n",
    "draw_polygons_of_county(current_county_index)\n",
    "set_polygons_of_county(current_county_index, [\"add\", \"add\", \"add\"])"
   ]
  },
  {
   "cell_type": "code",
   "execution_count": 39,
   "metadata": {},
   "outputs": [],
   "source": [
    "current_county_index = next(unchecked_counties)\n",
    "draw_polygons_of_county(current_county_index)\n",
    "set_polygons_of_county(current_county_index, [\"add\", \"add\"])"
   ]
  },
  {
   "cell_type": "code",
   "execution_count": 40,
   "metadata": {},
   "outputs": [],
   "source": [
    "current_county_index = next(unchecked_counties)\n",
    "draw_polygons_of_county(current_county_index)\n",
    "set_polygons_of_county(current_county_index, [\"add\", \"add\", \"add\", \"add\", \"add\"])"
   ]
  },
  {
   "cell_type": "code",
   "execution_count": 41,
   "metadata": {},
   "outputs": [],
   "source": [
    "current_county_index = next(unchecked_counties)\n",
    "draw_polygons_of_county(current_county_index)\n",
    "set_polygons_of_county(current_county_index, [\"add\", \"remove\", \"add\", \"add\"])"
   ]
  },
  {
   "cell_type": "code",
   "execution_count": 42,
   "metadata": {},
   "outputs": [],
   "source": [
    "current_county_index = next(unchecked_counties)\n",
    "draw_polygons_of_county(current_county_index)\n",
    "set_polygons_of_county(current_county_index, [\"add\", \"add\"])"
   ]
  },
  {
   "cell_type": "code",
   "execution_count": 43,
   "metadata": {},
   "outputs": [],
   "source": [
    "current_county_index = next(unchecked_counties)\n",
    "draw_polygons_of_county(current_county_index)\n",
    "set_polygons_of_county(current_county_index, [\"add\", \"add\"])"
   ]
  },
  {
   "cell_type": "code",
   "execution_count": 44,
   "metadata": {},
   "outputs": [],
   "source": [
    "current_county_index = next(unchecked_counties)\n",
    "draw_polygons_of_county(current_county_index)\n",
    "set_polygons_of_county(current_county_index, [\"add\", \"remove\"])"
   ]
  },
  {
   "cell_type": "code",
   "execution_count": 45,
   "metadata": {},
   "outputs": [],
   "source": [
    "current_county_index = next(unchecked_counties)\n",
    "draw_polygons_of_county(current_county_index)\n",
    "set_polygons_of_county(current_county_index, [\"add\", \"add\", \"remove\"])"
   ]
  },
  {
   "cell_type": "code",
   "execution_count": 46,
   "metadata": {},
   "outputs": [],
   "source": [
    "current_county_index = next(unchecked_counties)\n",
    "draw_polygons_of_county(current_county_index)\n",
    "set_polygons_of_county(current_county_index, [\"add\", \"add\", \"remove\"])"
   ]
  },
  {
   "cell_type": "code",
   "execution_count": 47,
   "metadata": {},
   "outputs": [],
   "source": [
    "current_county_index = next(unchecked_counties)\n",
    "draw_polygons_of_county(current_county_index)\n",
    "set_polygons_of_county(current_county_index, [\"add\", \"remove\"])"
   ]
  },
  {
   "cell_type": "code",
   "execution_count": 48,
   "metadata": {},
   "outputs": [],
   "source": [
    "current_county_index = next(unchecked_counties)\n",
    "draw_polygons_of_county(current_county_index)\n",
    "set_polygons_of_county(current_county_index, [\"add\", \"add\", \"add\"])"
   ]
  },
  {
   "cell_type": "code",
   "execution_count": 49,
   "metadata": {
    "scrolled": true
   },
   "outputs": [],
   "source": [
    "current_county_index = next(unchecked_counties)\n",
    "draw_polygons_of_county(current_county_index)\n",
    "set_polygons_of_county(current_county_index, [\"add\", \"remove\", \"remove\"])"
   ]
  },
  {
   "cell_type": "code",
   "execution_count": 50,
   "metadata": {},
   "outputs": [],
   "source": [
    "current_county_index = next(unchecked_counties)\n",
    "draw_polygons_of_county(current_county_index)\n",
    "set_polygons_of_county(current_county_index, [\"add\", \"remove\"])"
   ]
  },
  {
   "cell_type": "code",
   "execution_count": 51,
   "metadata": {},
   "outputs": [],
   "source": [
    "current_county_index = next(unchecked_counties)\n",
    "draw_polygons_of_county(current_county_index)\n",
    "set_polygons_of_county(current_county_index, [\"add\", \"add\"])"
   ]
  },
  {
   "cell_type": "code",
   "execution_count": 52,
   "metadata": {},
   "outputs": [],
   "source": [
    "current_county_index = next(unchecked_counties)\n",
    "draw_polygons_of_county(current_county_index)\n",
    "set_polygons_of_county(current_county_index, [\"add\", \"remove\"])"
   ]
  },
  {
   "cell_type": "code",
   "execution_count": 53,
   "metadata": {},
   "outputs": [],
   "source": [
    "current_county_index = next(unchecked_counties)\n",
    "draw_polygons_of_county(current_county_index)\n",
    "set_polygons_of_county(current_county_index, [\"add\", \"add\"])"
   ]
  },
  {
   "cell_type": "code",
   "execution_count": 54,
   "metadata": {},
   "outputs": [],
   "source": [
    "current_county_index = next(unchecked_counties)\n",
    "draw_polygons_of_county(current_county_index)\n",
    "set_polygons_of_county(current_county_index, [\"add\", \"remove\"])"
   ]
  },
  {
   "cell_type": "code",
   "execution_count": 55,
   "metadata": {},
   "outputs": [],
   "source": [
    "current_county_index = next(unchecked_counties)\n",
    "draw_polygons_of_county(current_county_index)\n",
    "set_polygons_of_county(current_county_index, [\"add\", \"add\"])"
   ]
  },
  {
   "cell_type": "code",
   "execution_count": 56,
   "metadata": {},
   "outputs": [],
   "source": [
    "current_county_index = next(unchecked_counties)\n",
    "draw_polygons_of_county(current_county_index)\n",
    "set_polygons_of_county(current_county_index, [\"add\", \"add\"])"
   ]
  },
  {
   "cell_type": "code",
   "execution_count": 57,
   "metadata": {},
   "outputs": [],
   "source": [
    "current_county_index = next(unchecked_counties)\n",
    "draw_polygons_of_county(current_county_index)\n",
    "set_polygons_of_county(current_county_index, [\"add\", \"add\", \"add\", \"add\", \"remove\", \"remove\", \"remove\"])"
   ]
  },
  {
   "cell_type": "code",
   "execution_count": 58,
   "metadata": {},
   "outputs": [],
   "source": [
    "current_county_index = next(unchecked_counties)\n",
    "draw_polygons_of_county(current_county_index)\n",
    "set_polygons_of_county(current_county_index, [\"add\", \"add\"])"
   ]
  },
  {
   "cell_type": "code",
   "execution_count": 59,
   "metadata": {},
   "outputs": [],
   "source": [
    "current_county_index = next(unchecked_counties)\n",
    "draw_polygons_of_county(current_county_index)\n",
    "set_polygons_of_county(current_county_index, [\"add\", \"add\", \"add\", \"add\", \"remove\", \"remove\", \"remove\", \"remove\", \"remove\", \"remove\", \"remove\"])"
   ]
  },
  {
   "cell_type": "code",
   "execution_count": 60,
   "metadata": {
    "scrolled": true
   },
   "outputs": [],
   "source": [
    "current_county_index = next(unchecked_counties)\n",
    "draw_polygons_of_county(current_county_index)\n",
    "set_polygons_of_county(current_county_index, [\"add\", \"add\", \"add\", \"remove\"])"
   ]
  },
  {
   "cell_type": "code",
   "execution_count": 61,
   "metadata": {},
   "outputs": [],
   "source": [
    "current_county_index = next(unchecked_counties)\n",
    "draw_polygons_of_county(current_county_index)\n",
    "set_polygons_of_county(current_county_index, [\"add\", \"add\", \"add\", \"add\"])"
   ]
  },
  {
   "cell_type": "code",
   "execution_count": 62,
   "metadata": {},
   "outputs": [],
   "source": [
    "current_county_index = next(unchecked_counties)\n",
    "draw_polygons_of_county(current_county_index)\n",
    "set_polygons_of_county(current_county_index, [\"add\", \"add\", \"add\", \"add\"])"
   ]
  },
  {
   "cell_type": "code",
   "execution_count": 63,
   "metadata": {},
   "outputs": [],
   "source": [
    "current_county_index = next(unchecked_counties)\n",
    "draw_polygons_of_county(current_county_index)\n",
    "set_polygons_of_county(current_county_index, [\"add\", \"add\", \"add\", \"remove\"])"
   ]
  },
  {
   "cell_type": "code",
   "execution_count": 64,
   "metadata": {},
   "outputs": [],
   "source": [
    "current_county_index = next(unchecked_counties)\n",
    "draw_polygons_of_county(current_county_index)\n",
    "set_polygons_of_county(current_county_index, [\"add\", \"remove\", \"remove\"])"
   ]
  },
  {
   "cell_type": "code",
   "execution_count": 65,
   "metadata": {
    "scrolled": true
   },
   "outputs": [],
   "source": [
    "current_county_index = next(unchecked_counties)\n",
    "draw_polygons_of_county(current_county_index)\n",
    "set_polygons_of_county(current_county_index, [\"add\", \"add\", \"add\", \"add\", \"remove\"])"
   ]
  },
  {
   "cell_type": "code",
   "execution_count": 66,
   "metadata": {
    "scrolled": true
   },
   "outputs": [],
   "source": [
    "current_county_index = next(unchecked_counties)\n",
    "draw_polygons_of_county(current_county_index)\n",
    "set_polygons_of_county(current_county_index, [\"add\", \"remove\", \"remove\", \"remove\"])"
   ]
  },
  {
   "cell_type": "code",
   "execution_count": 67,
   "metadata": {
    "scrolled": true
   },
   "outputs": [],
   "source": [
    "current_county_index = next(unchecked_counties)\n",
    "draw_polygons_of_county(current_county_index)\n",
    "set_polygons_of_county(current_county_index, [\"add\", \"remove\"])"
   ]
  },
  {
   "cell_type": "code",
   "execution_count": 68,
   "metadata": {},
   "outputs": [],
   "source": [
    "current_county_index = next(unchecked_counties)\n",
    "draw_polygons_of_county(current_county_index)\n",
    "set_polygons_of_county(current_county_index, [\"add\", \"remove\"])"
   ]
  },
  {
   "cell_type": "code",
   "execution_count": 69,
   "metadata": {},
   "outputs": [],
   "source": [
    "current_county_index = next(unchecked_counties)\n",
    "draw_polygons_of_county(current_county_index)\n",
    "set_polygons_of_county(current_county_index, [\"add\", \"remove\"])"
   ]
  },
  {
   "cell_type": "code",
   "execution_count": 70,
   "metadata": {},
   "outputs": [],
   "source": [
    "current_county_index = next(unchecked_counties)\n",
    "draw_polygons_of_county(current_county_index)\n",
    "set_polygons_of_county(current_county_index, [\"add\", \"remove\"])"
   ]
  },
  {
   "cell_type": "code",
   "execution_count": 71,
   "metadata": {},
   "outputs": [],
   "source": [
    "current_county_index = next(unchecked_counties)\n",
    "draw_polygons_of_county(current_county_index)\n",
    "set_polygons_of_county(current_county_index, [\"add\", \"remove\"])"
   ]
  },
  {
   "cell_type": "code",
   "execution_count": 72,
   "metadata": {},
   "outputs": [],
   "source": [
    "current_county_index = next(unchecked_counties)\n",
    "draw_polygons_of_county(current_county_index)\n",
    "set_polygons_of_county(current_county_index, [\"add\", \"add\"])"
   ]
  },
  {
   "cell_type": "code",
   "execution_count": 73,
   "metadata": {},
   "outputs": [],
   "source": [
    "current_county_index = next(unchecked_counties)\n",
    "draw_polygons_of_county(current_county_index)\n",
    "set_polygons_of_county(current_county_index, [\"add\", \"add\"])"
   ]
  },
  {
   "cell_type": "code",
   "execution_count": 74,
   "metadata": {},
   "outputs": [],
   "source": [
    "current_county_index = next(unchecked_counties)\n",
    "draw_polygons_of_county(current_county_index)\n",
    "set_polygons_of_county(current_county_index, [\"add\", \"add\", \"remove\"])"
   ]
  },
  {
   "cell_type": "code",
   "execution_count": 75,
   "metadata": {},
   "outputs": [],
   "source": [
    "current_county_index = next(unchecked_counties)\n",
    "draw_polygons_of_county(current_county_index)\n",
    "set_polygons_of_county(current_county_index, [\"add\", \"remove\", \"remove\", \"remove\"])"
   ]
  },
  {
   "cell_type": "code",
   "execution_count": 76,
   "metadata": {},
   "outputs": [],
   "source": [
    "current_county_index = next(unchecked_counties)\n",
    "draw_polygons_of_county(current_county_index)\n",
    "set_polygons_of_county(current_county_index, [\"add\", \"remove\"])"
   ]
  },
  {
   "cell_type": "code",
   "execution_count": 77,
   "metadata": {},
   "outputs": [],
   "source": [
    "current_county_index = next(unchecked_counties)\n",
    "draw_polygons_of_county(current_county_index)\n",
    "set_polygons_of_county(current_county_index, [\"add\", \"remove\"])"
   ]
  },
  {
   "cell_type": "code",
   "execution_count": 78,
   "metadata": {},
   "outputs": [],
   "source": [
    "current_county_index = next(unchecked_counties)\n",
    "draw_polygons_of_county(current_county_index)\n",
    "set_polygons_of_county(current_county_index, [\"add\", \"add\"])"
   ]
  },
  {
   "cell_type": "code",
   "execution_count": 79,
   "metadata": {},
   "outputs": [],
   "source": [
    "current_county_index = next(unchecked_counties)\n",
    "draw_polygons_of_county(current_county_index)\n",
    "set_polygons_of_county(current_county_index, [\"add\", \"remove\"])"
   ]
  },
  {
   "cell_type": "code",
   "execution_count": 80,
   "metadata": {},
   "outputs": [],
   "source": [
    "current_county_index = next(unchecked_counties)\n",
    "draw_polygons_of_county(current_county_index)\n",
    "set_polygons_of_county(current_county_index, [\"add\", \"remove\"])"
   ]
  },
  {
   "cell_type": "code",
   "execution_count": 81,
   "metadata": {},
   "outputs": [],
   "source": [
    "current_county_index = next(unchecked_counties)\n",
    "draw_polygons_of_county(current_county_index)\n",
    "set_polygons_of_county(current_county_index, [\"add\", \"remove\"])"
   ]
  },
  {
   "cell_type": "code",
   "execution_count": 82,
   "metadata": {},
   "outputs": [],
   "source": [
    "current_county_index = next(unchecked_counties)\n",
    "draw_polygons_of_county(current_county_index)\n",
    "set_polygons_of_county(current_county_index, [\"add\", \"remove\"])"
   ]
  },
  {
   "cell_type": "code",
   "execution_count": 83,
   "metadata": {},
   "outputs": [],
   "source": [
    "current_county_index = next(unchecked_counties)\n",
    "draw_polygons_of_county(current_county_index)\n",
    "set_polygons_of_county(current_county_index, [\"add\", \"add\"])"
   ]
  },
  {
   "cell_type": "code",
   "execution_count": 84,
   "metadata": {},
   "outputs": [],
   "source": [
    "current_county_index = next(unchecked_counties)\n",
    "draw_polygons_of_county(current_county_index)\n",
    "set_polygons_of_county(current_county_index, [\"add\", \"remove\", \"remove\"])"
   ]
  },
  {
   "cell_type": "code",
   "execution_count": 85,
   "metadata": {},
   "outputs": [],
   "source": [
    "current_county_index = next(unchecked_counties)\n",
    "draw_polygons_of_county(current_county_index)\n",
    "set_polygons_of_county(current_county_index, [\"add\", \"add\", \"add\", \"remove\"])"
   ]
  },
  {
   "cell_type": "code",
   "execution_count": 86,
   "metadata": {},
   "outputs": [],
   "source": [
    "current_county_index = next(unchecked_counties)\n",
    "draw_polygons_of_county(current_county_index)\n",
    "set_polygons_of_county(current_county_index, [\"add\", \"remove\"])"
   ]
  },
  {
   "cell_type": "code",
   "execution_count": 87,
   "metadata": {},
   "outputs": [],
   "source": [
    "current_county_index = next(unchecked_counties)\n",
    "draw_polygons_of_county(current_county_index)\n",
    "set_polygons_of_county(current_county_index, [\"add\", \"remove\"])"
   ]
  },
  {
   "cell_type": "code",
   "execution_count": 88,
   "metadata": {},
   "outputs": [],
   "source": [
    "current_county_index = next(unchecked_counties)\n",
    "draw_polygons_of_county(current_county_index)\n",
    "set_polygons_of_county(current_county_index, [\"add\", \"add\"])"
   ]
  },
  {
   "cell_type": "code",
   "execution_count": 89,
   "metadata": {},
   "outputs": [],
   "source": [
    "current_county_index = next(unchecked_counties)\n",
    "draw_polygons_of_county(current_county_index)\n",
    "set_polygons_of_county(current_county_index, [\"add\", \"remove\"])"
   ]
  },
  {
   "cell_type": "code",
   "execution_count": 90,
   "metadata": {},
   "outputs": [],
   "source": [
    "current_county_index = next(unchecked_counties)\n",
    "draw_polygons_of_county(current_county_index)\n",
    "set_polygons_of_county(current_county_index, [\"add\", \"add\"])"
   ]
  },
  {
   "cell_type": "code",
   "execution_count": 91,
   "metadata": {},
   "outputs": [],
   "source": [
    "current_county_index = next(unchecked_counties)\n",
    "draw_polygons_of_county(current_county_index)\n",
    "set_polygons_of_county(current_county_index, [\"add\", \"remove\"])"
   ]
  },
  {
   "cell_type": "code",
   "execution_count": 92,
   "metadata": {},
   "outputs": [],
   "source": [
    "current_county_index = next(unchecked_counties)\n",
    "draw_polygons_of_county(current_county_index)\n",
    "set_polygons_of_county(current_county_index, [\"add\", \"add\"])"
   ]
  },
  {
   "cell_type": "code",
   "execution_count": 93,
   "metadata": {},
   "outputs": [],
   "source": [
    "current_county_index = next(unchecked_counties)\n",
    "draw_polygons_of_county(current_county_index)\n",
    "set_polygons_of_county(current_county_index, [\"add\", \"add\"])"
   ]
  },
  {
   "cell_type": "code",
   "execution_count": 94,
   "metadata": {},
   "outputs": [],
   "source": [
    "current_county_index = next(unchecked_counties)\n",
    "draw_polygons_of_county(current_county_index)\n",
    "set_polygons_of_county(current_county_index, [\"add\", \"add\", \"add\"])"
   ]
  },
  {
   "cell_type": "code",
   "execution_count": 95,
   "metadata": {},
   "outputs": [],
   "source": [
    "current_county_index = next(unchecked_counties)\n",
    "draw_polygons_of_county(current_county_index)\n",
    "set_polygons_of_county(current_county_index, [\"add\", \"remove\"])"
   ]
  },
  {
   "cell_type": "code",
   "execution_count": 96,
   "metadata": {},
   "outputs": [],
   "source": [
    "current_county_index = next(unchecked_counties)\n",
    "draw_polygons_of_county(current_county_index)\n",
    "set_polygons_of_county(current_county_index, [\"add\", \"add\", \"add\"])"
   ]
  },
  {
   "cell_type": "code",
   "execution_count": 97,
   "metadata": {},
   "outputs": [],
   "source": [
    "current_county_index = next(unchecked_counties)\n",
    "draw_polygons_of_county(current_county_index)\n",
    "set_polygons_of_county(current_county_index, [\"add\", \"add\", \"remove\"])"
   ]
  },
  {
   "cell_type": "code",
   "execution_count": 98,
   "metadata": {},
   "outputs": [],
   "source": [
    "current_county_index = next(unchecked_counties)\n",
    "draw_polygons_of_county(current_county_index)\n",
    "set_polygons_of_county(current_county_index, [\"add\", \"add\"])"
   ]
  },
  {
   "cell_type": "code",
   "execution_count": 99,
   "metadata": {},
   "outputs": [],
   "source": [
    "current_county_index = next(unchecked_counties)\n",
    "draw_polygons_of_county(current_county_index)\n",
    "set_polygons_of_county(current_county_index, [\"add\"]*37)"
   ]
  },
  {
   "cell_type": "code",
   "execution_count": 100,
   "metadata": {},
   "outputs": [],
   "source": [
    "current_county_index = next(unchecked_counties)\n",
    "draw_polygons_of_county(current_county_index)\n",
    "set_polygons_of_county(current_county_index, [\"add\", \"add\", \"add\", \"add\", \"add\", \"add\", \"remove\", \"remove\"])"
   ]
  },
  {
   "cell_type": "code",
   "execution_count": 101,
   "metadata": {
    "scrolled": true
   },
   "outputs": [],
   "source": [
    "current_county_index = next(unchecked_counties)\n",
    "draw_polygons_of_county(current_county_index)\n",
    "set_polygons_of_county(current_county_index, [\"add\"]*21)"
   ]
  },
  {
   "cell_type": "code",
   "execution_count": 102,
   "metadata": {},
   "outputs": [],
   "source": [
    "current_county_index = next(unchecked_counties)\n",
    "draw_polygons_of_county(current_county_index)\n",
    "set_polygons_of_county(current_county_index, [\"add\", \"add\", \"add\"])"
   ]
  },
  {
   "cell_type": "code",
   "execution_count": 103,
   "metadata": {},
   "outputs": [],
   "source": [
    "current_county_index = next(unchecked_counties)\n",
    "draw_polygons_of_county(current_county_index)\n",
    "set_polygons_of_county(current_county_index, [\"add\", \"add\"])"
   ]
  },
  {
   "cell_type": "code",
   "execution_count": 104,
   "metadata": {},
   "outputs": [],
   "source": [
    "current_county_index = next(unchecked_counties)\n",
    "draw_polygons_of_county(current_county_index)\n",
    "set_polygons_of_county(current_county_index, [\"add\", \"add\", \"add\", \"remove\"])"
   ]
  },
  {
   "cell_type": "code",
   "execution_count": 105,
   "metadata": {},
   "outputs": [],
   "source": [
    "current_county_index = next(unchecked_counties)\n",
    "draw_polygons_of_county(current_county_index)\n",
    "set_polygons_of_county(current_county_index, [\"add\", \"add\"])"
   ]
  },
  {
   "cell_type": "code",
   "execution_count": 106,
   "metadata": {},
   "outputs": [],
   "source": [
    "current_county_index = next(unchecked_counties)\n",
    "draw_polygons_of_county(current_county_index)\n",
    "set_polygons_of_county(current_county_index, [\"add\", \"remove\", \"remove\"])"
   ]
  },
  {
   "cell_type": "code",
   "execution_count": 107,
   "metadata": {},
   "outputs": [],
   "source": [
    "current_county_index = next(unchecked_counties)\n",
    "draw_polygons_of_county(current_county_index)\n",
    "set_polygons_of_county(current_county_index, [\"add\", \"add\", \"add\", \"remove\"])"
   ]
  },
  {
   "cell_type": "code",
   "execution_count": 108,
   "metadata": {},
   "outputs": [],
   "source": [
    "current_county_index = next(unchecked_counties)\n",
    "draw_polygons_of_county(current_county_index)\n",
    "set_polygons_of_county(current_county_index, [\"add\", \"add\", \"remove\", \"remove\"])"
   ]
  },
  {
   "cell_type": "code",
   "execution_count": 109,
   "metadata": {},
   "outputs": [],
   "source": [
    "current_county_index = next(unchecked_counties)\n",
    "draw_polygons_of_county(current_county_index)\n",
    "set_polygons_of_county(current_county_index, [\"add\", \"add\", \"remove\"])"
   ]
  },
  {
   "cell_type": "code",
   "execution_count": 110,
   "metadata": {},
   "outputs": [],
   "source": [
    "current_county_index = next(unchecked_counties)\n",
    "draw_polygons_of_county(current_county_index)\n",
    "set_polygons_of_county(current_county_index, [\"add\", \"remove\"])"
   ]
  },
  {
   "cell_type": "code",
   "execution_count": 111,
   "metadata": {},
   "outputs": [],
   "source": [
    "current_county_index = next(unchecked_counties)\n",
    "draw_polygons_of_county(current_county_index)\n",
    "set_polygons_of_county(current_county_index, [\"add\", \"add\"])"
   ]
  },
  {
   "cell_type": "code",
   "execution_count": 112,
   "metadata": {},
   "outputs": [],
   "source": [
    "current_county_index = next(unchecked_counties)\n",
    "draw_polygons_of_county(current_county_index)\n",
    "set_polygons_of_county(current_county_index, [\"add\", \"remove\"])"
   ]
  },
  {
   "cell_type": "code",
   "execution_count": 113,
   "metadata": {},
   "outputs": [],
   "source": [
    "current_county_index = next(unchecked_counties)\n",
    "draw_polygons_of_county(current_county_index)\n",
    "set_polygons_of_county(current_county_index, [\"add\", \"remove\"])"
   ]
  },
  {
   "cell_type": "code",
   "execution_count": 114,
   "metadata": {},
   "outputs": [],
   "source": [
    "current_county_index = next(unchecked_counties)\n",
    "draw_polygons_of_county(current_county_index)\n",
    "set_polygons_of_county(current_county_index, [\"add\", \"add\", \"add\", \"add\", \"remove\"])"
   ]
  },
  {
   "cell_type": "markdown",
   "metadata": {},
   "source": [
    "## Save modified data in file"
   ]
  },
  {
   "cell_type": "code",
   "execution_count": 115,
   "metadata": {},
   "outputs": [],
   "source": [
    "with open(\"modified_german_county_data.txt\", \"w\") as file:\n",
    "    file.write(json.dumps(data))"
   ]
  },
  {
   "cell_type": "markdown",
   "metadata": {},
   "source": [
    "## Draw the counties\n",
    "Every countys shape can be reached by calling the value of \"geometry\" and afterwards \"rings\". Kept in a very basic way to demonstrate the used data."
   ]
  },
  {
   "cell_type": "code",
   "execution_count": 116,
   "metadata": {},
   "outputs": [],
   "source": [
    "if plot_modified_data_for_rough_overview:\n",
    "    plt.figure(figsize = (20, 20))    # enlarge plot\n",
    "    for county in data['features']:\n",
    "        for polygon in county['geometry']['rings']:\n",
    "            x,y = np.array(polygon).T\n",
    "            plt.fill(x, y)\n",
    "    plt.show()"
   ]
  }
 ],
 "metadata": {
  "kernelspec": {
   "display_name": "Python 3",
   "language": "python",
   "name": "python3"
  },
  "language_info": {
   "codemirror_mode": {
    "name": "ipython",
    "version": 3
   },
   "file_extension": ".py",
   "mimetype": "text/x-python",
   "name": "python",
   "nbconvert_exporter": "python",
   "pygments_lexer": "ipython3",
   "version": "3.7.6"
  }
 },
 "nbformat": 4,
 "nbformat_minor": 4
}
