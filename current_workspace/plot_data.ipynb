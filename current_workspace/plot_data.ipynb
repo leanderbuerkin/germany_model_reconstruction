{
 "cells": [
  {
   "cell_type": "markdown",
   "metadata": {},
   "source": [
    "# Plot the data\n",
    "Used to map the COVID-19 cases of Germany on a map or plotting the number of cases/seven days incidence of one county.\n",
    "<br/><br/><br/>\n",
    "Provides the dictionary \"counties_geography\" with different kinds of geographical information about every German county. For more information check out the file \"get_geographical_data_of_german_counties.ipynb\".\n",
    "<br/><br/>\n",
    "Provides the accumulated COVID-19 case number and the seven days incidences of every german county and every day of the pandemic in the dictionary \"covid19\" (reachable by the county's AdmUnitID).\n",
    "For more information check out the file \"get_data.ipynb\" (which calls the file \"get_geographical_data_of_german_counties.ipynb\" if needed)."
   ]
  },
  {
   "cell_type": "markdown",
   "metadata": {},
   "source": [
    "## Modules\n",
    "Needed to use non-Python functionalities already programmed by someone else."
   ]
  },
  {
   "cell_type": "code",
   "execution_count": null,
   "metadata": {},
   "outputs": [],
   "source": [
    "# Used to cast the polygons into np.arrays and afterwards transpose them easily with the .T function\n",
    "import numpy as np\n",
    "import matplotlib.pyplot as plt    # to plot the counties\n",
    "# used to determine which part of the plot shall be saved\n",
    "from matplotlib.transforms import Bbox"
   ]
  },
  {
   "cell_type": "markdown",
   "metadata": {},
   "source": [
    "## Get the data\n",
    "More information about the data can be find inside the first cell."
   ]
  },
  {
   "cell_type": "code",
   "execution_count": null,
   "metadata": {},
   "outputs": [],
   "source": [
    "%run get_data.ipynb\n",
    "print(\"All data is ready!\")"
   ]
  },
  {
   "cell_type": "markdown",
   "metadata": {},
   "source": [
    "## Create color schemes"
   ]
  },
  {
   "cell_type": "code",
   "execution_count": null,
   "metadata": {},
   "outputs": [],
   "source": [
    "red_yellow_green = list()\n",
    "# bigger steps in the darkgreen spectrum to make a bigger optical difference between\n",
    "# smaller numbers (e.g. 7 and 8) in comparison to bigger numbers (e.g. 57 and 58)\n",
    "# (most of the time most counties are green and hard to distinguish and only a few are red)\n",
    "for color_step in np.arange(0.3,1,0.05):\n",
    "    red_yellow_green.append((0, color_step, 0))\n",
    "for color_step in np.arange(0,1,0.02):\n",
    "    red_yellow_green.append((color_step, 1, 0))\n",
    "for color_step in np.arange(0,1,0.01):\n",
    "    red_yellow_green.append((1, 1 - color_step, 0))\n",
    "for color_step in np.arange(0,1,0.005):\n",
    "    red_yellow_green.append((1 - color_step, 0, 0))\n",
    "font = dict(family= 'serif', color= 'black', weight= 'bold', size= 90)"
   ]
  },
  {
   "cell_type": "code",
   "execution_count": null,
   "metadata": {},
   "outputs": [],
   "source": [
    "# check if the needed directory is availlable - otherwise create it\n",
    "if not(os.path.isdir(\"germany_incidence\")): os.makedirs(\"germany_incidence\")\n",
    "\n",
    "for date_index in range(345, len(non_county_specific_data['UTC'])):\n",
    "    fig = plt.figure(figsize = (50, 50), facecolor='darkgrey')\n",
    "    ax = plt.axes(frameon=False)\n",
    "    for AdmUnitID, county in covid19.items():\n",
    "        color_index_incidence = int(county['incidences'][date_index])\n",
    "        if color_index_incidence >= len(red_yellow_green):\n",
    "            color = red_yellow_green[-1]\n",
    "        else:\n",
    "            color = red_yellow_green[color_index_incidence]\n",
    "        for polygon in counties_geography[AdmUnitID]['geometry']:\n",
    "            x,y = np.array(polygon).T\n",
    "            plt.fill(x, y, color=color, facecolor=\"darkgrey\")\n",
    "        # draw the lines around the counties\n",
    "        for polygon in counties_geography[AdmUnitID]['raw_geometry']:\n",
    "            x,y = np.array(polygon).T\n",
    "            plt.plot(x, y, color=\"black\")\n",
    "    plt.title(\"Incidences in Germany on day \" + \n",
    "              str(non_county_specific_data['UTC'][date_index])[:10],\n",
    "              fontdict=font)\n",
    "    plt.savefig(\"germany_incidence/\" + str(date_index) + '.png',\n",
    "                facecolor=\"darkgrey\", bbox_inches=Bbox([[7,7],[44,46]]))\n",
    "    plt.close('all')"
   ]
  },
  {
   "cell_type": "code",
   "execution_count": null,
   "metadata": {},
   "outputs": [],
   "source": [
    "g = list()\n",
    "g[1]"
   ]
  },
  {
   "cell_type": "code",
   "execution_count": null,
   "metadata": {},
   "outputs": [],
   "source": []
  },
  {
   "cell_type": "code",
   "execution_count": null,
   "metadata": {},
   "outputs": [],
   "source": []
  },
  {
   "cell_type": "code",
   "execution_count": null,
   "metadata": {},
   "outputs": [],
   "source": []
  },
  {
   "cell_type": "code",
   "execution_count": null,
   "metadata": {},
   "outputs": [],
   "source": []
  },
  {
   "cell_type": "code",
   "execution_count": null,
   "metadata": {},
   "outputs": [],
   "source": []
  },
  {
   "cell_type": "code",
   "execution_count": null,
   "metadata": {},
   "outputs": [],
   "source": []
  },
  {
   "cell_type": "code",
   "execution_count": null,
   "metadata": {},
   "outputs": [],
   "source": []
  },
  {
   "cell_type": "code",
   "execution_count": null,
   "metadata": {},
   "outputs": [],
   "source": []
  },
  {
   "cell_type": "code",
   "execution_count": null,
   "metadata": {},
   "outputs": [],
   "source": []
  },
  {
   "cell_type": "code",
   "execution_count": null,
   "metadata": {},
   "outputs": [],
   "source": [
    "fig1 = plt.figure(facecolor='darkgrey', figsize = (20, 20))\n",
    "ax1 = plt.axes(frameon=False)\n",
    "ax1.axes.get_yaxis().set_visible(False)\n",
    "ax1.axes.get_xaxis().set_visible(False)\n",
    "for AdmUnitID, county in covid19.items():\n",
    "    # get last incidence and divide it by the highest incidence to get a number between 0 and 1\n",
    "    # to get the full range of colors the both incidence values get subtracted by the lowest incidence\n",
    "    color_step = county['incidences'][-1]/250\n",
    "    # everything bellow 0.5 gets drawn green\n",
    "    if color_step > 1:\n",
    "        color = (1, 1, 0)\n",
    "    elif color_step < 0.2:\n",
    "        color = (color_step * 5, 1, 0)\n",
    "    else:\n",
    "        color_step = (color_step - 0.2) * 1.25\n",
    "        color = (1, 1 - color_step, 0)\n",
    "        plt.title(\"Incidences in Germany on day \" + str(non_county_specific_data['UTC'][-1])[:10], fontdict=font)\n",
    "    for polygon in counties_geography[AdmUnitID]['geometry']:\n",
    "        x,y = np.array(polygon).T\n",
    "        plt.fill(x, y, color=color)\n",
    "plt.show()"
   ]
  },
  {
   "cell_type": "code",
   "execution_count": null,
   "metadata": {},
   "outputs": [],
   "source": [
    "for colorID in range(0, len(red_yellow_green), 20):\n",
    "    for polygon in counties_geography[\"8311\"]['geometry']:\n",
    "        x,y = np.array(polygon).T\n",
    "        plt.fill(x, y, color=red_yellow_green[colorID])\n",
    "        plt.plot(x, y, color=(0,0,0))\n",
    "    plt.show()"
   ]
  },
  {
   "cell_type": "code",
   "execution_count": null,
   "metadata": {},
   "outputs": [],
   "source": [
    "red_to_yellow_to_green = list()\n",
    "for color_step in np.arange(0,1,0.01):\n",
    "    red_to_yellow_to_green.append((color_step, 1, 0))\n",
    "for color_step in np.arange(0,1,0.01):\n",
    "    red_to_yellow_to_green.append((1, 1 - color_step, 0))"
   ]
  },
  {
   "cell_type": "code",
   "execution_count": null,
   "metadata": {},
   "outputs": [],
   "source": [
    "for colorID in range(0, len(red_to_yellow_to_green), 15):\n",
    "    for polygon in counties_geography[\"8311\"]['geometry']:\n",
    "        x,y = np.array(polygon).T\n",
    "        plt.fill(x, y, color=red_to_yellow_to_green[colorID])\n",
    "        plt.plot(x, y, color=(0,0,0))\n",
    "    plt.show()"
   ]
  },
  {
   "cell_type": "code",
   "execution_count": null,
   "metadata": {},
   "outputs": [],
   "source": [
    "blue_to_white_to_red = list()\n",
    "for color_step in np.arange(0,1,0.01):\n",
    "    blue_to_white_to_red.append((color_step, color_step, 1))\n",
    "for color_step in np.arange(0,1,0.01):\n",
    "    blue_to_white_to_red.append((1, 1 - color_step, 1 - color_step))"
   ]
  },
  {
   "cell_type": "code",
   "execution_count": null,
   "metadata": {},
   "outputs": [],
   "source": [
    "for colorID in range(0, len(blue_to_white_to_red), 15):\n",
    "    for polygon in counties_geography[\"8311\"]['geometry']:\n",
    "        x,y = np.array(polygon).T\n",
    "        plt.fill(x, y, color=blue_to_white_to_red[colorID])\n",
    "        plt.plot(x, y, color=(0,0,0))\n",
    "    plt.show()"
   ]
  },
  {
   "cell_type": "markdown",
   "metadata": {},
   "source": [
    "## Plot examples"
   ]
  },
  {
   "cell_type": "code",
   "execution_count": null,
   "metadata": {},
   "outputs": [],
   "source": [
    "# copy to check that all counties are related to a federal state\n",
    "covid19_copy = covid19.copy()\n",
    "for stateID, state in non_county_specific_data['states'].items():\n",
    "    plt.figure(figsize=(20, 5))    # enlarge plot\n",
    "    plt.title(\"Incidences in {} {}\".format(stateID, state))\n",
    "    for AdmUnitID, county in covid19.items():\n",
    "        if AdmUnitID[:-3] == stateID:\n",
    "            plt.plot(non_county_specific_data['UTC'], county['incidences'])\n",
    "            del covid19_copy[AdmUnitID]\n",
    "    plt.show()"
   ]
  },
  {
   "cell_type": "code",
   "execution_count": null,
   "metadata": {},
   "outputs": [],
   "source": [
    "if len(covid19_copy) != 0:\n",
    "    print('There seems to be at least one county being unrelated to any federal state:')\n",
    "    for AdmUnitID in covid19_copy.keys():\n",
    "        print(AdmUnitID + \" \" + counties_geography[AdmUnitId]['name'])"
   ]
  },
  {
   "cell_type": "markdown",
   "metadata": {},
   "source": [
    "## Plot data of one state"
   ]
  },
  {
   "cell_type": "code",
   "execution_count": null,
   "metadata": {},
   "outputs": [],
   "source": [
    "example_state_ID = \"13\"\n",
    "print(\"You have chosen {} {}\".format(example_state_ID, non_county_specific_data['states'][example_state_ID]))"
   ]
  },
  {
   "cell_type": "code",
   "execution_count": null,
   "metadata": {},
   "outputs": [],
   "source": [
    "counties_in_example_state = list()\n",
    "for AdmUnitID, county in covid19.items():\n",
    "    if AdmUnitID[:-3] == \"13\":\n",
    "        counties_in_example_state.append(AdmUnitID)\n",
    "        plt.figure(figsize=(20, 5))    # enlarge plot\n",
    "        plt.plot(non_county_specific_data['UTC'], county['incidences'])\n",
    "        plt.title(\"Incidences in \" + AdmUnitID + \" \" + counties_geography[AdmUnitID]['name'])\n",
    "        plt.show()"
   ]
  },
  {
   "cell_type": "code",
   "execution_count": null,
   "metadata": {},
   "outputs": [],
   "source": [
    "plt.figure(figsize = (20, 20))    # enlarge plot\n",
    "for AdmUnitID in counties_in_example_state:\n",
    "    # get last incidence and divide it by the highest incidence to get a number between 0 and 1\n",
    "    # to get the full range of colors the both incidence values get subtracted by the lowest incidence\n",
    "    color_step = covid19[AdmUnitID]['incidences'][-1]/250\n",
    "    # everything bellow 0.5 gets drawn green\n",
    "    if color_step > 1:\n",
    "        color = (1, 1, 0)\n",
    "    elif color_step < 0.2:\n",
    "        color = (color_step * 5, 1, 0)\n",
    "    else:\n",
    "        color_step = (color_step - 0.2) * 1.25\n",
    "        color = (1, 1 - color_step, 0)\n",
    "    print(color)\n",
    "    for polygon in counties_geography[AdmUnitID]['geometry']:\n",
    "        x,y = np.array(polygon).T\n",
    "        plt.fill(x, y, color=color)\n",
    "plt.show()"
   ]
  },
  {
   "cell_type": "markdown",
   "metadata": {},
   "source": [
    "## Normating the color schemes\n",
    "Aiming for an even distribution between all color fields"
   ]
  },
  {
   "cell_type": "code",
   "execution_count": null,
   "metadata": {},
   "outputs": [],
   "source": [
    "plt.figure(figsize = (20, 20))    # enlarge plot\n",
    "distribution_of_incidences = [0 for e in range(400)]\n",
    "for county in covid19.values():\n",
    "    for incidence in county['incidences']:\n",
    "        if int(incidence) >= 250:\n",
    "            print(int(incidence))\n",
    "        else:\n",
    "            distribution_of_incidences[int(incidence)] += 1\n",
    "plt.plot([e + 25 for e in range(375)], distribution_of_incidences[25:])\n",
    "plt.show"
   ]
  }
 ],
 "metadata": {
  "kernelspec": {
   "display_name": "Python 3",
   "language": "python",
   "name": "python3"
  },
  "language_info": {
   "codemirror_mode": {
    "name": "ipython",
    "version": 3
   },
   "file_extension": ".py",
   "mimetype": "text/x-python",
   "name": "python",
   "nbconvert_exporter": "python",
   "pygments_lexer": "ipython3",
   "version": "3.7.6"
  }
 },
 "nbformat": 4,
 "nbformat_minor": 4
}
